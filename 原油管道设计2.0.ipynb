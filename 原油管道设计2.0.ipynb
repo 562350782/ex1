{
 "cells": [
  {
   "cell_type": "markdown",
   "metadata": {},
   "source": [
    "## 问题核心：\n",
    "求油流随管道流动其温度的变化情况，忽略径向温度变化，只考虑轴向温度变化，则核心是列宗宾公式\n",
    "$$\n",
    "T_{l} = T_{0}+b+[T_{R}-(T_{0}+b)]e^{-al} \\\\\n",
    "a = \\frac{K\\pi D}{Gc} \\\\\n",
    "b = \\frac{gi}{ca}\n",
    "$$\n",
    "### 需要求解的量\n",
    "- 比热容c\n",
    "- 总传热系数K\n",
    "- 水力坡降i"
   ]
  },
  {
   "cell_type": "code",
   "execution_count": 1,
   "metadata": {},
   "outputs": [],
   "source": [
    "import numpy as np\n",
    "import matplotlib.pyplot as plt"
   ]
  },
  {
   "cell_type": "markdown",
   "metadata": {},
   "source": [
    "### 基本参数计算：\n",
    "#### 1. 常规参数设置\n",
    "- t——初始温度为45摄氏度\n",
    "- G——油品的质量流量 1200 万t/年\n",
    "- e——钢管内部粗超度 0.05 mm\n",
    "- g——重力加速度9.8 $m /s ^{2}$\n",
    "- T0——管道周围介质温度20°C\n",
    "- L——管道全长410.2km\n",
    "- h_t——管道埋深1.6m\n",
    "- T_R——加热站起点温度53°C\n",
    "- T_Z——加热站终点温度35°C"
   ]
  },
  {
   "cell_type": "code",
   "execution_count": 2,
   "metadata": {},
   "outputs": [
    {
     "data": {
      "text/plain": [
       "396.8253968253968"
      ]
     },
     "execution_count": 2,
     "metadata": {},
     "output_type": "execute_result"
    }
   ],
   "source": [
    "t = 45\n",
    "G = 1200 * 10** 7 / (350 * 24 * 3600)   #kg/s\n",
    "e = 5 * 10 ** (-5)  \n",
    "g = 9.8    \n",
    "T0 = 20\n",
    "L = 410200\n",
    "h_t = 1.6\n",
    "T_R = 53\n",
    "T_Z = 35\n",
    "G"
   ]
  },
  {
   "cell_type": "markdown",
   "metadata": {},
   "source": [
    "2. 确定油品密度函数  \n",
    "$$\n",
    "\\rho _{20} =857.5(kg/m^{3})、t=45°C\\\\\n",
    "\\varepsilon_{t}=1.825-1.315\\times 10^{-3}\\rho _{20} \\\\\n",
    "\\rho =\\rho_{20}-\\varepsilon _{t}(t-2)  \\\\\n",
    "$$\n",
    "\n",
    "$\\rho$ ——计算一个温度值对应的原油密度，kg/m3;   \n",
    "$\\rho _{20}$ ——20°C时的油品密度，kg/m3;  \n",
    "t——原油温度，°C;  \n",
    "$\\varepsilon _{t}$——温度系数，kg/(m3·°C)。\n"
   ]
  },
  {
   "cell_type": "code",
   "execution_count": 3,
   "metadata": {},
   "outputs": [
    {
     "data": {
      "text/plain": [
       "827.5123375"
      ]
     },
     "execution_count": 3,
     "metadata": {},
     "output_type": "execute_result"
    }
   ],
   "source": [
    "def rho(t):\n",
    "    rho_20 =857.5\n",
    "    varepsilon_t=1.825-1.315 * 10**-3 * rho_20\n",
    "    rho = rho_20 - varepsilon_t * (t-2) \n",
    "    return rho\n",
    "rho(t)"
   ]
  },
  {
   "cell_type": "markdown",
   "metadata": {},
   "source": [
    "- 用油品密度确定油品质量Q函数\n",
    "$$\n",
    "Q = \\dfrac{G}{\\rho}\n",
    "$$\n",
    "Q——体积流量，m3/s;   \n",
    "G——质量流量，kg/s;  \n",
    "ρ——原油密度，kg/m3"
   ]
  },
  {
   "cell_type": "code",
   "execution_count": 4,
   "metadata": {},
   "outputs": [
    {
     "data": {
      "text/plain": [
       "0.4795401577023579"
      ]
     },
     "execution_count": 4,
     "metadata": {},
     "output_type": "execute_result"
    }
   ],
   "source": [
    "def Q(t):\n",
    "    Q = G/rho(t)\n",
    "    return Q\n",
    "Q(t)"
   ]
  },
  {
   "cell_type": "markdown",
   "metadata": {},
   "source": [
    "4.用质量流量求出管道参数  \n",
    "经济流速范围1.5m/s～2m/s，取1.8m/s  \n",
    "$$\n",
    "Q = \\frac{\\pi }{4}d^{2}\\upsilon \n",
    "$$\n",
    "d——输油管道内径，m;   \n",
    "v ——原油流速，m/s"
   ]
  },
  {
   "cell_type": "code",
   "execution_count": 5,
   "metadata": {},
   "outputs": [
    {
     "data": {
      "text/plain": [
       "0.5824133183359554"
      ]
     },
     "execution_count": 5,
     "metadata": {},
     "output_type": "execute_result"
    }
   ],
   "source": [
    "upsilon = 1.8\n",
    "d = np.sqrt(Q(t)/(np.pi/4)/upsilon)\n",
    "d"
   ]
  },
  {
   "cell_type": "markdown",
   "metadata": {},
   "source": [
    "由《输油管道设计与管理》查到最接近的钢管尺寸：\n",
    "- 外经 D = 610 mm\n",
    "- 壁厚 h = 14.3 mm\n",
    "- 内径 d = 582.4 mm\n",
    "- 管重 210 kg/m"
   ]
  },
  {
   "cell_type": "code",
   "execution_count": 6,
   "metadata": {},
   "outputs": [],
   "source": [
    "D=0.610\n",
    "h=0.0143\n",
    "d=0.5824"
   ]
  },
  {
   "cell_type": "markdown",
   "metadata": {},
   "source": [
    "***\n",
    "### 1. 比热容c计算函数\n",
    "$$\n",
    "c=4.186-0.9085e^{0.01732t}\n",
    "$$"
   ]
  },
  {
   "cell_type": "code",
   "execution_count": 7,
   "metadata": {},
   "outputs": [
    {
     "data": {
      "text/plain": [
       "2205.3212106619844"
      ]
     },
     "execution_count": 7,
     "metadata": {},
     "output_type": "execute_result"
    }
   ],
   "source": [
    "def c(t):\n",
    "    c=1000*(4.186-0.9085 * np.e **(0.01732 * t))\n",
    "    return c\n",
    "c(t)"
   ]
  },
  {
   "cell_type": "markdown",
   "metadata": {},
   "source": [
    "***\n",
    "### 2. 水力坡降i计算函数\n",
    "要计算水力坡降i首先要先计算雷诺数判断流态\n",
    "雷诺数计算公式：  \n",
    "$$\n",
    "Re = \\dfrac{4Q}{\\pi d\\vartheta} \\\\\n",
    "\\varepsilon = \\dfrac{2e}{d}\\\\\n",
    "Re_{1} = \\dfrac{59.5}{\\varepsilon^{8/7}}\\\\\n",
    "Re_{2} = \\dfrac{665-765lg\\varepsilon}{\\varepsilon}\n",
    "$$\n",
    "Q——油品体积流量，m3/s  \n",
    "d——管道内径，m;  \n",
    "Re1、Re2——临界雷诺数;  \n",
    "ν——油品运动粘度，m2/s;   \n",
    "ε——管壁相对当量粗糙度;   \n",
    "e——管壁绝对当量粗糙度。   "
   ]
  },
  {
   "cell_type": "markdown",
   "metadata": {},
   "source": [
    "#### 其中有未知数：\n",
    "- 运动粘度$\\vartheta (m ^{2}/s)$——$\\frac{\\mu}{\\rho}$\n",
    "- 管壁相对粗糙度$\\varepsilon$——$\\frac{2e}{d}$ (需要估算管径)\n"
   ]
  },
  {
   "cell_type": "markdown",
   "metadata": {},
   "source": [
    "#### 未知参数计算\n",
    "- 运动粘度函数：\n",
    "$$\n",
    "\\vartheta=\\dfrac{8000\\times e^{-0.2949t}}{\\rho}\n",
    "$$"
   ]
  },
  {
   "cell_type": "code",
   "execution_count": 8,
   "metadata": {},
   "outputs": [
    {
     "data": {
      "text/plain": [
       "1.667287858002476e-05"
      ]
     },
     "execution_count": 8,
     "metadata": {},
     "output_type": "execute_result"
    }
   ],
   "source": [
    "def vartheta(t):\n",
    "    vartheta=8000 * np.e ** (-0.2949 * t)/rho(t)\n",
    "    return vartheta\n",
    "vartheta(t)"
   ]
  },
  {
   "cell_type": "markdown",
   "metadata": {},
   "source": [
    "- 管壁相对粗糙度计算式\n",
    "$\\varepsilon = \\dfrac{2e}{d}$"
   ]
  },
  {
   "cell_type": "code",
   "execution_count": 9,
   "metadata": {},
   "outputs": [
    {
     "data": {
      "text/plain": [
       "0.0001717032967032967"
      ]
     },
     "execution_count": 9,
     "metadata": {},
     "output_type": "execute_result"
    }
   ],
   "source": [
    "varepsilon = 2*e/d\n",
    "varepsilon"
   ]
  },
  {
   "cell_type": "markdown",
   "metadata": {},
   "source": [
    "#### 雷诺数计算\n",
    "雷诺数计算公式：  \n",
    "$$\n",
    "Re = \\dfrac{4Q}{\\pi d\\vartheta} \\\\\n",
    "Re_{1} = \\dfrac{59.5}{\\varepsilon^{8/7}}\\\\\n",
    "Re_{2} = \\dfrac{665-765lg\\varepsilon}{\\varepsilon}\n",
    "$$"
   ]
  },
  {
   "cell_type": "code",
   "execution_count": 10,
   "metadata": {},
   "outputs": [
    {
     "data": {
      "text/plain": [
       "(62878.64099326381, 1195713.406523121, 20648376.66658056)"
      ]
     },
     "execution_count": 10,
     "metadata": {},
     "output_type": "execute_result"
    }
   ],
   "source": [
    "def Re(t):\n",
    "    Re = 4 * Q(t) / (np.pi*d*vartheta(t))\n",
    "    return Re\n",
    "Re1 = 59.5/varepsilon**(8/7)\n",
    "Re2 = (665-765*np.log10(varepsilon))/varepsilon\n",
    "\n",
    "Re(t),Re1,Re2"
   ]
  },
  {
   "cell_type": "markdown",
   "metadata": {},
   "source": [
    "不同流态下Re的数值范围  \n",
    "\n",
    "流态|划分范围|水力坡降i|水力摩阻系数$\\lambda$\n",
    ":-:|:-:|:-:|:----:\n",
    "层流 | Re<2000 | $\\dfrac{4.15Q\\vartheta}{d^{4}}$ | $\\lambda = \\dfrac{64}{Re}$\n",
    "过渡流 | 2000≤Re≤3000 | $0.0124Q^{1.75} \\vartheta^{0.25}$ | $\\frac{1}{\\sqrt{\\lambda}}=1.811gRe-1.53,\\lambda = 0.3164Re^{-0.25}$\n",
    "水力光滑区 | 3000<Re≤Re1 | $0.0246\\dfrac{Q^{1.75}\\vartheta^{0.25}}{d^{4.75}}$ | $\\frac{1}{\\sqrt{\\lambda}}=-2lg\\left ( \\frac{e}{3.7d}+\\frac{2.51}{Re\\sqrt{\\lambda}}\\right ) , \\lambda = 0.11(\\frac{e}{d}+\\frac{68}{Re})^{0.25}$\n",
    "混合摩擦区 | Re1<Re≤Re2 | $0.0802A \\dfrac{Q^{1.877}\\vartheta^{0.123}}{d^{4.877}}$ | $\\frac{1}{\\sqrt{\\lambda}}=-2lg\\left ( \\frac{e}{3.7d}+\\frac{2.51}{Re\\sqrt{\\lambda}}\\right ) , \\lambda = 0.11(\\frac{e}{d}+\\frac{68}{Re})^{0.25}$\n",
    "完全粗糙区 | Re>Re2 | $0.0826\\lambda\\dfrac{Q^{2}}{d^{5}}$ | $\\lambda = \\frac{1}{(1.74 - 2lg \\epsilon )^{2}}$\n"
   ]
  },
  {
   "cell_type": "markdown",
   "metadata": {},
   "source": [
    "由结果可以看出流态处于水力光滑区  \n",
    "$$\n",
    "i =0.0246\\dfrac{Q^{1.75}\\vartheta^{0.25}}{d^{4.75}}\n",
    "$$"
   ]
  },
  {
   "cell_type": "code",
   "execution_count": 40,
   "metadata": {},
   "outputs": [
    {
     "data": {
      "text/plain": [
       "0.0056634358043659815"
      ]
     },
     "execution_count": 40,
     "metadata": {},
     "output_type": "execute_result"
    }
   ],
   "source": [
    "\n",
    "def num_i(t):\n",
    "    if Re(t) < 2000:\n",
    "        num_i = 4.15 * Q(t) * vartheta(t) / d ** 4\n",
    "    if Re(t) >= 2000 and Re(t) <= 3000:\n",
    "        num_i = 0.0124 * Q(t) ** 1.75 * vartheta(t) ** 0.25\n",
    "    if Re(t) > 3000 and Re(t) <= Re1:\n",
    "        num_i = 0.0246 * Q(t) ** 1.75 * vartheta(t) ** 0.25 / d ** 4.75\n",
    "    if Re(t) > Re1 and Re(t) <= Re2:\n",
    "        A = 10 ** (0.127 * np.log10(e/d) * 0.627 )\n",
    "        num_i = 0.0802 * A * Q(t) ** 1.899 * vartheta(t) ** 0.123 / d ** 4.877\n",
    "    if Re(t) > Re2:\n",
    "        lambd = 0.11 * (e/d) ** 0.25\n",
    "        num_i = 0.0826 * lambd * Q(t) ** 2 / d ** 5\n",
    "    return num_i\n",
    "num_i(t)"
   ]
  },
  {
   "cell_type": "markdown",
   "metadata": {},
   "source": [
    "***\n",
    "### 3. 总传热系数K计算\n",
    "$$\n",
    "K = \\frac{1}{\\frac{1}{\\alpha _{1}}+\\frac{1}{\\alpha _{2}}+\\frac{\\delta _{1}}{\\lambda _{1}}+\\frac{\\delta _{2}}{\\lambda _{2}}}\n",
    "$$\n",
    "- $\\alpha _{1}$——油流到管内壁放热系数（通过雷诺系数确定计算式，若紊流状态下$\\alpha _{1}$要比层流时大得多，通常情况下二者 可能相差数十倍。因此，紊流时的$\\alpha _{1}$对总传热系数的影响很小，可以忽略）\n",
    "- $\\alpha _{2}$——管壁至土壤的放热系数（$\\lambda _{t}$ =1.4 W/m·°C）   \n",
    "$\\alpha _{2} = \\frac{2\\lambda _{t}}{Dln\\left [\\frac{2h_{t}}{D} +\\sqrt{(\\frac{2h_{t}}{D})^{2}-1}\\right ]}$\n",
    "    - $h _{t}$为管埋深度1.6m\n",
    "- $\\alpha _{3}$——钢的放热系数：$\\lambda _{1} = 48 W/m·°C, \\delta _{1}=h=0.0143m$\n",
    "- $\\alpha _{4}$——沥青的放热系数：$\\lambda _{2} = 0.15 W/m·°C,  \\delta _{2} = 8 \\times 10^{-5}m$\n"
   ]
  },
  {
   "cell_type": "code",
   "execution_count": 42,
   "metadata": {},
   "outputs": [
    {
     "data": {
      "text/plain": [
       "(0.5100871169835972, 0.00029791666666666665, 0.0005333333333333334)"
      ]
     },
     "execution_count": 42,
     "metadata": {},
     "output_type": "execute_result"
    }
   ],
   "source": [
    "lambda_t =1.4\n",
    "alpha2 = 2 * lambda_t/(D * np.log(2*h_t/D + np.sqrt((2*h_t/D)**2 - 1)))\n",
    "delta1= h\n",
    "delta2= 0.00008\n",
    "lambda_1 = 48\n",
    "lambda_2 = 0.15\n",
    "K = 1/(1/alpha2+ delta1/lambda_1 + delta2/lambda_2)\n",
    "1/alpha2, delta1/lambda_1, delta2/lambda_2\n"
   ]
  },
  {
   "cell_type": "markdown",
   "metadata": {},
   "source": [
    "***\n",
    "### 需要求解的量已经求解完毕，下面来计算T关于l的函数\n",
    "- 比热容c\n",
    "- 总传热系数K\n",
    "- 水力坡降i\n",
    "$$\n",
    "T_{l} = T_{0}+b+[T_{R}-(T_{0}+b)]e^{-al} \\\\\n",
    "a = \\frac{K\\pi D}{Gc} \\\\\n",
    "b = \\frac{gi}{ca}\n",
    "$$"
   ]
  },
  {
   "cell_type": "code",
   "execution_count": 43,
   "metadata": {},
   "outputs": [
    {
     "data": {
      "text/plain": [
       "4.286046501155319e-06"
      ]
     },
     "execution_count": 43,
     "metadata": {},
     "output_type": "execute_result"
    }
   ],
   "source": [
    "def a(t):\n",
    "    a = K*np.pi*D / (G * c(t)) \n",
    "    return a\n",
    "a(t)"
   ]
  },
  {
   "cell_type": "code",
   "execution_count": 45,
   "metadata": {},
   "outputs": [
    {
     "data": {
      "text/plain": [
       "5.871882070198885"
      ]
     },
     "execution_count": 45,
     "metadata": {},
     "output_type": "execute_result"
    }
   ],
   "source": [
    "def b(t):\n",
    "    b = g * num_i(t) / (c(t) * a(t))\n",
    "    return b\n",
    "b(t)"
   ]
  },
  {
   "cell_type": "markdown",
   "metadata": {},
   "source": [
    "\n",
    "#### 在计算温度之前需要先确定布置加热站，来得到两站之间的距离l的函数\n",
    "石油凝点为30°C，进入加热站的温度要高于凝点温度3～5°C，在此设为35°C  \n",
    "加热站数——$n _{R} = \\frac {L}{l _{R}}$   \n",
    "加热间距——$l _{R} = \\frac{Gc}{K\\pi D}ln\\frac {T_{R}-T_{0}-b}{T_{z}-T_{0}-b}$"
   ]
  },
  {
   "cell_type": "code",
   "execution_count": 46,
   "metadata": {},
   "outputs": [
    {
     "data": {
      "text/plain": [
       "254129.58530415467"
      ]
     },
     "execution_count": 46,
     "metadata": {},
     "output_type": "execute_result"
    }
   ],
   "source": [
    "def l_R(t):\n",
    "    l_R = G *c(t)/(K*np.pi*D) *np.log((T_R - T0-b(t))/(T_Z-T0-b(t)))\n",
    "    return l_R\n",
    "l_R(t)"
   ]
  },
  {
   "cell_type": "code",
   "execution_count": 47,
   "metadata": {},
   "outputs": [
    {
     "data": {
      "text/plain": [
       "2.0"
      ]
     },
     "execution_count": 47,
     "metadata": {},
     "output_type": "execute_result"
    }
   ],
   "source": [
    "def n_R(t):\n",
    "    n_R =np.ceil(L/l_R(t))\n",
    "    return n_R\n",
    "n_R(t)"
   ]
  },
  {
   "cell_type": "code",
   "execution_count": 51,
   "metadata": {},
   "outputs": [
    {
     "data": {
      "text/plain": [
       "136733.33333333334"
      ]
     },
     "execution_count": 51,
     "metadata": {},
     "output_type": "execute_result"
    }
   ],
   "source": [
    "def l(t):\n",
    "    l = L/(n_R(t)+1)\n",
    "    return l\n",
    "l(t)"
   ]
  },
  {
   "cell_type": "code",
   "execution_count": 52,
   "metadata": {},
   "outputs": [
    {
     "data": {
      "text/plain": [
       "(36.51713406336666, 2205.3212106619844, 0.0056634358043659815)"
      ]
     },
     "execution_count": 52,
     "metadata": {},
     "output_type": "execute_result"
    }
   ],
   "source": [
    "l = l(t)\n",
    "num_b = b(t)\n",
    "def T_l(t, l):\n",
    "    T_l = T0 + num_b + (t - (T0 + num_b))*np.e**(-a(t)*l)\n",
    "    return T_l\n",
    "T_l(t, l),c(t), num_i(t)"
   ]
  },
  {
   "cell_type": "code",
   "execution_count": 53,
   "metadata": {},
   "outputs": [
    {
     "data": {
      "text/plain": [
       "411"
      ]
     },
     "execution_count": 53,
     "metadata": {},
     "output_type": "execute_result"
    }
   ],
   "source": [
    "n = 0\n",
    "k = 0\n",
    "tem = []\n",
    "while True:\n",
    "    n += 1000\n",
    "    tem.append(T_l(53, n))\n",
    "    if n > l:\n",
    "        k +=1\n",
    "        n = 0\n",
    "    if k == 3:\n",
    "        break\n",
    "\n",
    "len(tem)"
   ]
  },
  {
   "cell_type": "code",
   "execution_count": 54,
   "metadata": {},
   "outputs": [
    {
     "data": {
      "text/plain": [
       "411"
      ]
     },
     "execution_count": 54,
     "metadata": {},
     "output_type": "execute_result"
    },
    {
     "data": {
      "image/png": "[encoded data removed]",
      "text/plain": [
       "<Figure size 432x288 with 1 Axes>"
      ]
     },
     "metadata": {
      "needs_background": "light"
     },
     "output_type": "display_data"
    }
   ],
   "source": [
    "x = np.arange(0, L, 1000)\n",
    "y = tem\n",
    "plt.plot(x/1000, y, label ='linear')\n",
    "len(x)"
   ]
  },
  {
   "cell_type": "code",
   "execution_count": 55,
   "metadata": {},
   "outputs": [
    {
     "data": {
      "text/plain": [
       "[<matplotlib.lines.Line2D at 0x11bc56f10>]"
      ]
     },
     "execution_count": 55,
     "metadata": {},
     "output_type": "execute_result"
    },
    {
     "data": {
      "image/png": "[encoded data removed]",
      "text/plain": [
       "<Figure size 432x288 with 1 Axes>"
      ]
     },
     "metadata": {
      "needs_background": "light"
     },
     "output_type": "display_data"
    }
   ],
   "source": [
    "num_i1 = []\n",
    "x = np.arange(0, L, 1000)\n",
    "for j in range(len(tem)):\n",
    "    num_i1.append(num_i(tem[j]))\n",
    "plt.plot(x/1000, num_i1, label ='linear')"
   ]
  },
  {
   "cell_type": "code",
   "execution_count": 56,
   "metadata": {},
   "outputs": [
    {
     "data": {
      "text/plain": [
       "[<matplotlib.lines.Line2D at 0x11bbf4390>]"
      ]
     },
     "execution_count": 56,
     "metadata": {},
     "output_type": "execute_result"
    },
    {
     "data": {
      "image/png": "[encoded data removed]",
      "text/plain": [
       "<Figure size 432x288 with 1 Axes>"
      ]
     },
     "metadata": {
      "needs_background": "light"
     },
     "output_type": "display_data"
    }
   ],
   "source": [
    "num_rho = []\n",
    "x = np.arange(0, L, 1000)\n",
    "for j in range(len(tem)):\n",
    "    num_rho.append(rho(tem[j]))\n",
    "plt.plot(x/1000, num_rho, label ='linear')"
   ]
  },
  {
   "cell_type": "code",
   "execution_count": 58,
   "metadata": {},
   "outputs": [
    {
     "data": {
      "text/plain": [
       "[<matplotlib.lines.Line2D at 0x11b657a50>]"
      ]
     },
     "execution_count": 58,
     "metadata": {},
     "output_type": "execute_result"
    },
    {
     "data": {
      "image/png": "[encoded data removed]",
      "text/plain": [
       "<Figure size 432x288 with 1 Axes>"
      ]
     },
     "metadata": {
      "needs_background": "light"
     },
     "output_type": "display_data"
    }
   ],
   "source": [
    "multi_i_rho = []\n",
    "x = np.arange(0, L, 1000)\n",
    "for j in range(len(tem)):\n",
    "    multi_i_rho.append(-rho(tem[j]) * num_i(tem[j]))\n",
    "plt.plot(x/1000, multi_i_rho, label ='linear')"
   ]
  },
  {
   "cell_type": "markdown",
   "metadata": {},
   "source": [
    "***\n",
    "## 前面加热站计算完毕下面计算泵站\n",
    "### 压力计算公式\n",
    "$$\n",
    "压力P=长度/高度 \\times 密度\\rho \\times g\n",
    "$$\n",
    "### 泵站要求：\n",
    "- 泵站入口最低压力P_min = 0.5MPa  \n",
    "- 泵站出口最高压力P_max = 6MPa    \n",
    "### 首先计算流量，选用泵"
   ]
  },
  {
   "cell_type": "code",
   "execution_count": 59,
   "metadata": {},
   "outputs": [
    {
     "data": {
      "text/plain": [
       "739.8619575979236"
      ]
     },
     "execution_count": 59,
     "metadata": {},
     "output_type": "execute_result"
    }
   ],
   "source": [
    "P_min = 0.5 * 10 ** 6\n",
    "P_max = 6 * 10 ** 6\n",
    "def h_max(t):\n",
    "    h_max = P_max / rho(t)/g\n",
    "    return h_max\n",
    "h_max(t)"
   ]
  },
  {
   "cell_type": "code",
   "execution_count": 60,
   "metadata": {},
   "outputs": [
    {
     "data": {
      "text/plain": [
       "1726.3445677284885"
      ]
     },
     "execution_count": 60,
     "metadata": {},
     "output_type": "execute_result"
    }
   ],
   "source": [
    "def Q_h(t):    # 计算每小时的流量，用于选用泵\n",
    "    Q_h = Q(t) * 3600\n",
    "    return Q_h\n",
    "Q_h(t)"
   ]
  },
  {
   "cell_type": "markdown",
   "metadata": {},
   "source": [
    "### HSB14-14-14-16.5I型号泵扬程-流程曲线拟合\n",
    "#### 数据集：  \n",
    "x =[35.48774,139.62958,283.44449,432.21854,580.99259,744.64404,928.13204,1176.08879,1424.04553,1672.00228,1964.59124,2321.64896,2653.911,2966.33651,3219.25239]   \n",
    "y =  \n",
    "[252.16587,251.96386,251.55983,252.16587,252.16587,252.36788,252.16587,251.96386,250.75178,250.14575,246.91355,239.03506,229.94451,219.84389,208.7332]\n"
   ]
  },
  {
   "cell_type": "code",
   "execution_count": 61,
   "metadata": {},
   "outputs": [
    {
     "name": "stdout",
     "output_type": "stream",
     "text": [
      "x is :\n",
      " [  35.48774  139.62958  283.44449  432.21854  580.99259  744.64404\n",
      "  928.13204 1176.08879 1424.04553 1672.00228 1964.59124 2321.64896\n",
      " 2653.911   2966.33651 3219.25239]\n",
      "y is :\n",
      " [252.16587 251.96386 251.55983 252.16587 252.16587 252.36788 252.16587\n",
      " 251.96386 250.75178 250.14575 246.91355 239.03506 229.94451 219.84389\n",
      " 208.7332 ]\n",
      "15\n",
      "15\n",
      "f1 is :\n",
      " [-2.14445020e-09  2.73686013e-06 -7.18083170e-05  2.51826825e+02]\n",
      "p1 is :\n",
      "             3             2\n",
      "-2.144e-09 x + 2.737e-06 x - 7.181e-05 x + 251.8\n",
      "yvals is :\n",
      " [251.82762794 251.86431997 251.97751941 252.1339177  252.28837914\n",
      " 252.4054822  252.40325798 252.03947536 251.08185358 249.33423954\n",
      " 245.98853747 239.57668644 230.82825817 219.72304314 208.41405197]\n"
     ]
    },
    {
     "data": {
      "image/png": "[encoded data removed]",
      "text/plain": [
       "<Figure size 432x288 with 1 Axes>"
      ]
     },
     "metadata": {
      "needs_background": "light"
     },
     "output_type": "display_data"
    }
   ],
   "source": [
    "#定义x、y散点坐标\n",
    "x = [35.48774,139.62958,283.44449,432.21854,580.99259,744.64404,928.13204,1176.08879,1424.04553,1672.00228,1964.59124,2321.64896,2653.911,2966.33651,3219.25239]\n",
    "x = np.array(x)\n",
    "print('x is :\\n',x)\n",
    "num = [ 252.16587,251.96386,251.55983,252.16587,252.16587,252.36788,252.16587,251.96386,250.75178,250.14575,246.91355,239.03506,229.94451,219.84389,208.7332]\n",
    "y = np.array(num)\n",
    "print('y is :\\n',y)\n",
    "print(len(x))\n",
    "print(len(num))\n",
    "#用3次多项式拟合\n",
    "f1 = np.polyfit(x, y, 3)\n",
    "print('f1 is :\\n',f1)\n",
    "\n",
    "p1 = np.poly1d(f1)\n",
    "print('p1 is :\\n',p1)\n",
    "yvals = p1(x)  #拟合y值\n",
    "print('yvals is :\\n',yvals)\n",
    "\n",
    "#绘图\n",
    "plot1 = plt.plot(x, y, 's',label='original values')\n",
    "plot2 = plt.plot(x, yvals, 'r',label='polyfit values')\n",
    "plt.xlabel('x')\n",
    "plt.ylabel('y')\n",
    "plt.legend(loc=4) #指定legend的位置右下角\n",
    "plt.title('polyfitting')\n",
    "plt.show()"
   ]
  },
  {
   "cell_type": "markdown",
   "metadata": {},
   "source": [
    "#### 由结果可以得到HSB14-14-14-16.5I型号扬程-流程的拟合方程"
   ]
  },
  {
   "cell_type": "code",
   "execution_count": 62,
   "metadata": {},
   "outputs": [
    {
     "data": {
      "text/plain": [
       "251.799966193382"
      ]
     },
     "execution_count": 62,
     "metadata": {},
     "output_type": "execute_result"
    }
   ],
   "source": [
    "def H1_Q(Q):\n",
    "    H1 = -2.144* 10 **(-9) * Q ** 3 + 2.737 * 10 ** (-6) * Q ** 2 - 7.181 * 10 ** (-5) * Q + 251.8\n",
    "    return H1\n",
    "H1_Q(Q(t))"
   ]
  },
  {
   "cell_type": "markdown",
   "metadata": {},
   "source": [
    "\n",
    "### ZMIPII型号泵扬程-流程曲线拟合\n",
    "#### 数据集：  \n",
    "x =[30.87812,140.98369,331.16603,431.262,706.52591,836.65067,951.76104,1262.05854,1497.28407,1722.5,1922.69194,2132.89347,2308.06142,2483.22937,2668.40691,2823.55566,3013.738]   \n",
    "y =  \n",
    "[138.19001,138.01303,137.83606,137.77707,137.24615,137.01018,136.77422,136.00734,135.06348,134.35559,133.5887,132.40888,130.93411,129.6363,127.80758,125.97886,124.09114]\n"
   ]
  },
  {
   "cell_type": "code",
   "execution_count": 63,
   "metadata": {},
   "outputs": [
    {
     "name": "stdout",
     "output_type": "stream",
     "text": [
      "x is :\n",
      " [  30.87812  140.98369  331.16603  431.262    706.52591  836.65067\n",
      "  951.76104 1262.05854 1497.28407 1722.5     1922.69194 2132.89347\n",
      " 2308.06142 2483.22937 2668.40691 2823.55566 3013.738  ]\n",
      "y is :\n",
      " [138.19001 138.01303 137.83606 137.77707 137.24615 137.01018 136.77422\n",
      " 136.00734 135.06348 134.35559 133.5887  132.40888 130.93411 129.6363\n",
      " 127.80758 125.97886 124.09114]\n",
      "17\n",
      "17\n",
      "f1 is :\n",
      " [-5.24295240e-10  5.42267095e-07 -1.62673595e-03  1.38288506e+02]\n",
      "p1 is :\n",
      "             3             2\n",
      "-5.243e-10 x + 5.423e-07 x - 0.001627 x + 138.3\n",
      "yvals is :\n",
      " [138.23877701 138.06847184 137.79021518 137.6457579  137.22495322\n",
      " 137.0000252  136.77943209 136.04525209 135.30860464 134.41586409\n",
      " 133.43888312 132.19849783 130.97622514 129.56444619 127.84720016\n",
      " 126.21627825 123.95981605]\n"
     ]
    },
    {
     "data": {
      "image/png": "[encoded data removed]",
      "text/plain": [
       "<Figure size 432x288 with 1 Axes>"
      ]
     },
     "metadata": {
      "needs_background": "light"
     },
     "output_type": "display_data"
    }
   ],
   "source": [
    "\n",
    "#定义x、y散点坐标\n",
    "x = [30.87812,140.98369,331.16603,431.262,706.52591,836.65067,951.76104,1262.05854,1497.28407,1722.5,1922.69194,2132.89347,2308.06142,2483.22937,2668.40691,2823.55566,3013.738]\n",
    "x = np.array(x)\n",
    "print('x is :\\n',x)\n",
    "num = [138.19001,138.01303,137.83606,137.77707,137.24615,137.01018,136.77422,136.00734,135.06348,134.35559,133.5887,132.40888,130.93411,129.6363,127.80758,125.97886,124.09114]\n",
    "y = np.array(num)\n",
    "print('y is :\\n',y)\n",
    "print(len(x))\n",
    "print(len(num))\n",
    "#用3次多项式拟合\n",
    "f1 = np.polyfit(x, y, 3)\n",
    "print('f1 is :\\n',f1)\n",
    "\n",
    "p1 = np.poly1d(f1)\n",
    "print('p1 is :\\n',p1)\n",
    "yvals = p1(x)  #拟合y值\n",
    "print('yvals is :\\n',yvals)\n",
    "\n",
    "#绘图\n",
    "plot1 = plt.plot(x, y, 's',label='original values')\n",
    "plot2 = plt.plot(x, yvals, 'r',label='polyfit values')\n",
    "plt.xlabel('x')\n",
    "plt.ylabel('y')\n",
    "plt.legend(loc=4) #指定legend的位置右下角\n",
    "plt.title('polyfitting')\n",
    "plt.show()\n"
   ]
  },
  {
   "cell_type": "markdown",
   "metadata": {},
   "source": [
    "#### 由结果可以得到ZMIPII型号扬程-流程的拟合方程"
   ]
  },
  {
   "cell_type": "code",
   "execution_count": 64,
   "metadata": {},
   "outputs": [
    {
     "data": {
      "text/plain": [
       "138.29921991281225"
      ]
     },
     "execution_count": 64,
     "metadata": {},
     "output_type": "execute_result"
    }
   ],
   "source": [
    "def H2_Q(Q):\n",
    "    H2 = -5.243 * 10 **(-10) * Q ** 3 +5.423 * 10 ** (-7) * Q ** 2 - 0.001627 * Q + 138.3\n",
    "    return H2\n",
    "H2_Q(Q(t))"
   ]
  },
  {
   "cell_type": "markdown",
   "metadata": {},
   "source": [
    "#### 组合泵选择\n",
    "- HSB14-14-14-16.5I型号泵在流量为1726$m ^{3}/h$时扬程约为252m\n",
    "- ZMIPII型号泵在流量为1726$m ^{3}/h$时扬程约为138m   \n",
    "综上，由于6MPa对应扬程约为740m，故采用2台HSB14-14-14-16.5I型号泵与一台ZMIPII型号泵串联扬程为640m以接近740m扬程\n"
   ]
  },
  {
   "cell_type": "code",
   "execution_count": 94,
   "metadata": {},
   "outputs": [
    {
     "data": {
      "text/plain": [
       "(641.8991522995763, 5705558.7859951705, 5205558.7859951705)"
      ]
     },
     "execution_count": 94,
     "metadata": {},
     "output_type": "execute_result"
    }
   ],
   "source": [
    "H_sum =  H1_Q(Q(t)) + 2 * H2_Q(Q(t))\n",
    "def P_beng(t):\n",
    "    P_beng =  H_sum*rho(t)*g\n",
    "    return P_beng\n",
    "P0 = H_sum*rho(t)*g + 500000\n",
    "H_sum,P0,P_beng(t)"
   ]
  },
  {
   "cell_type": "markdown",
   "metadata": {},
   "source": [
    "### 泵站个数确定"
   ]
  },
  {
   "cell_type": "code",
   "execution_count": 66,
   "metadata": {},
   "outputs": [
    {
     "data": {
      "text/plain": [
       "3.7152199399869192"
      ]
     },
     "execution_count": 66,
     "metadata": {},
     "output_type": "execute_result"
    }
   ],
   "source": [
    "h_sz = 500000 / (rho(t) * g)\n",
    "n_beng = (num_i(t) * L + h_sz)/ H_sum\n",
    "n_beng"
   ]
  },
  {
   "cell_type": "code",
   "execution_count": 67,
   "metadata": {},
   "outputs": [
    {
     "data": {
      "text/plain": [
       "82040.0"
      ]
     },
     "execution_count": 67,
     "metadata": {},
     "output_type": "execute_result"
    }
   ],
   "source": [
    "beng_l = L / 5\n",
    "beng_l"
   ]
  },
  {
   "cell_type": "code",
   "execution_count": 68,
   "metadata": {},
   "outputs": [
    {
     "data": {
      "text/plain": [
       "73.16285859999999"
      ]
     },
     "execution_count": 68,
     "metadata": {},
     "output_type": "execute_result"
    }
   ],
   "source": [
    "def change_H(x):\n",
    "    if x < 7.72319:\n",
    "        y = 9.36544355 * x + 60\n",
    "    if 7.72319 <= x < 32.39916:\n",
    "        y = -4.81951267 * x + 169.553112\n",
    "    if 32.39916 <= x < 46.01348:\n",
    "        y = 6.50696105 * x - 197.415122\n",
    "    if 46.01348 <= x < 114.936:\n",
    "        y = 1.13566654 * x + 49.73683302\n",
    "    if 114.936 <= x < 220.447:\n",
    "        y = -0.879862574 * x + 281.393485\n",
    "    if 220.447 <= x < 391.0515:\n",
    "        y = -0.058683388 * x + 100.366997\n",
    "    if x>=391.0515:\n",
    "        y = -0.209731817 * x +159.434712\n",
    "    return y\n",
    "change_H(20)"
   ]
  },
  {
   "cell_type": "code",
   "execution_count": 69,
   "metadata": {},
   "outputs": [
    {
     "data": {
      "text/plain": [
       "[<matplotlib.lines.Line2D at 0x11be1ed50>]"
      ]
     },
     "execution_count": 69,
     "metadata": {},
     "output_type": "execute_result"
    },
    {
     "data": {
      "image/png": "[encoded data removed]",
      "text/plain": [
       "<Figure size 432x288 with 1 Axes>"
      ]
     },
     "metadata": {
      "needs_background": "light"
     },
     "output_type": "display_data"
    }
   ],
   "source": [
    "x = np.arange(0, 410, 1)\n",
    "num_y = []\n",
    "for i in range(len(x)):\n",
    "    y = change_H(x[i])\n",
    "    num_y.append(y)\n",
    "\n",
    "plt.plot(x, num_y, label ='linear')"
   ]
  },
  {
   "cell_type": "code",
   "execution_count": 103,
   "metadata": {},
   "outputs": [
    {
     "data": {
      "text/plain": [
       "[<matplotlib.lines.Line2D at 0x11d2fdd10>]"
      ]
     },
     "execution_count": 103,
     "metadata": {},
     "output_type": "execute_result"
    },
    {
     "data": {
      "image/png": "[encoded data removed]",
      "text/plain": [
       "<Figure size 432x288 with 1 Axes>"
      ]
     },
     "metadata": {
      "needs_background": "light"
     },
     "output_type": "display_data"
    }
   ],
   "source": [
    "H_sum =  H1_Q(Q(t)) + 2 * H2_Q(Q(t))\n",
    "sum_H = H_sum\n",
    "array_i = []\n",
    "for j in range(len(tem)):\n",
    "    x = j * 1000\n",
    "    if j == 0:\n",
    "        num_j = sum_H-num_i(tem[j])*1000\n",
    "    else:\n",
    "        num_j = sum_H-num_i(tem[j])*1000 - (change_H(j)-change_H(j-1))\n",
    "    sum_H = num_j\n",
    "    array_i.append(num_j)\n",
    "num_x = np.arange(0,  L , 1000)\n",
    "plt.plot(num_x/1000, array_i, label ='linear')\n"
   ]
  },
  {
   "cell_type": "code",
   "execution_count": 104,
   "metadata": {},
   "outputs": [
    {
     "data": {
      "text/plain": [
       "[<matplotlib.lines.Line2D at 0x11d3673d0>]"
      ]
     },
     "execution_count": 104,
     "metadata": {},
     "output_type": "execute_result"
    },
    {
     "data": {
      "image/png": "[encoded data removed]",
      "text/plain": [
       "<Figure size 432x288 with 1 Axes>"
      ]
     },
     "metadata": {
      "needs_background": "light"
     },
     "output_type": "display_data"
    }
   ],
   "source": [
    "array_p = []\n",
    "for i in range(len(array_i)):\n",
    "    if i < 96:\n",
    "        number_i = (array_i[i] * 9.8 * rho(tem[i]))/1000000\n",
    "    if i>= 96 and i<224:\n",
    "        number_i = (array_i[i] * 9.8 * rho(tem[i]) + P_beng(tem[i]))/1000000\n",
    "    if i>=224 and i<339:\n",
    "        number_i = (array_i[i] * 9.8 * rho(tem[i]) + 2*P_beng(tem[i]))/1000000\n",
    "    if i>=339:\n",
    "        number_i = (array_i[i] * 9.8 * rho(tem[i]) + 3*P_beng(tem[i]))/1000000\n",
    "    array_p.append(number_i)\n",
    "    if number_i < 0.5:\n",
    "        print(i)\n",
    "num_x = np.arange(0,  L , 1000)\n",
    "plt.plot(num_x/1000, array_p, label ='linear')"
   ]
  },
  {
   "cell_type": "code",
   "execution_count": null,
   "metadata": {},
   "outputs": [],
   "source": [
    "array_p = []\n",
    "for i in range(len(array_i)):\n",
    "    if i<83:\n",
    "        number_i = (array_i[i] * 9.8 * rho(tem[i]))/1000000\n",
    "    if i>=83 and i<176:\n",
    "        number_i = (array_i[i] * 9.8 * rho(tem[i]) + P_beng(tem[i]))/1000000\n",
    "    if i>=176 and i<267:\n",
    "        number_i = (array_i[i] * 9.8 * rho(tem[i]) + 2*P_beng(tem[i]))/1000000\n",
    "    if i>=267 and i<372:\n",
    "        number_i = (array_i[i] * 9.8 * rho(tem[i]) + 3*P_beng(tem[i]))/1000000\n",
    "    if i>=372:\n",
    "        number_i = (array_i[i] * 9.8 * rho(tem[i]) + 4*P_beng(tem[i]))/1000000\n",
    "    array_p.append(number_i)\n",
    "    if number_i < 0.5:\n",
    "        print(i)\n",
    "num_x = np.arange(0,  L , 1000)\n",
    "plt.plot(num_x/1000, array_p, label ='linear')"
   ]
  }
 ],
 "metadata": {
  "kernelspec": {
   "display_name": "Python 3",
   "language": "python",
   "name": "python3"
  },
  "language_info": {
   "codemirror_mode": {
    "name": "ipython",
    "version": 3
   },
   "file_extension": ".py",
   "mimetype": "text/x-python",
   "name": "python",
   "nbconvert_exporter": "python",
   "pygments_lexer": "ipython3",
   "version": "3.7.5"
  },
  "pycharm": {
   "stem_cell": {
    "cell_type": "raw",
    "source": [],
    "metadata": {
     "collapsed": false
    }
   }
  }
 },
 "nbformat": 4,
 "nbformat_minor": 2
}
