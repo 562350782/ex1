{
 "cells": [
  {
   "cell_type": "markdown",
   "source": [
    "### 高程里程关系"
   ],
   "metadata": {
    "collapsed": false
   }
  },
  {
   "cell_type": "code",
   "execution_count": 1,
   "outputs": [],
   "source": [
    "import numpy as np\n",
    "import matplotlib.pyplot as plt"
   ],
   "metadata": {
    "collapsed": false,
    "pycharm": {
     "name": "#%% \n",
     "is_executing": false
    }
   }
  },
  {
   "cell_type": "code",
   "execution_count": 2,
   "outputs": [
    {
     "data": {
      "text/plain": "73.16285859999999"
     },
     "metadata": {},
     "output_type": "execute_result",
     "execution_count": 2
    }
   ],
   "source": [
    "def change_H(x):\n",
    "    if x < 7.72319:\n",
    "        y = 9.36544355 * x + 60\n",
    "    if 7.72319 <= x < 32.39916:\n",
    "        y = -4.81951267 * x + 169.553112\n",
    "    if 32.39916 <= x < 46.01348:\n",
    "        y = 6.50696105 * x - 197.415122\n",
    "    if 46.01348 <= x < 114.936:\n",
    "        y = 1.13566654 * x + 49.73683302\n",
    "    if 114.936 <= x < 220.447:\n",
    "        y = -0.879862574 * x + 281.393485\n",
    "    if 220.447 <= x < 391.0515:\n",
    "        y = -0.058683388 * x + 100.366997\n",
    "    if x>=391.0515:\n",
    "        y = -0.209731817 * x +159.434712\n",
    "    return y\n",
    "change_H(20)"
   ],
   "metadata": {
    "collapsed": false,
    "pycharm": {
     "name": "#%%\n",
     "is_executing": false
    }
   }
  },
  {
   "cell_type": "code",
   "execution_count": 3,
   "outputs": [
    {
     "data": {
      "text/plain": "[<matplotlib.lines.Line2D at 0x1138c4050>]"
     },
     "metadata": {},
     "output_type": "execute_result",
     "execution_count": 3
    },
    {
     "data": {
      "text/plain": "<Figure size 432x288 with 1 Axes>",
      "image/png": "[encoded data removed]"
     },
     "metadata": {
      "needs_background": "light"
     },
     "output_type": "display_data"
    }
   ],
   "source": [
    "x = np.arange(0, 410, 1)\n",
    "num_y = []\n",
    "for i in range(len(x)):\n",
    "    y = change_H(x[i])\n",
    "    num_y.append(y)\n",
    "\n",
    "plt.plot(x, num_y, label ='linear')"
   ],
   "metadata": {
    "collapsed": false,
    "pycharm": {
     "name": "#%%\n",
     "is_executing": false
    }
   }
  },
  {
   "cell_type": "markdown",
   "source": [
    "## 问题核心：\n",
    "求油流随管道流动其温度的变化情况，忽略径向温度变化，只考虑轴向温度变化，则核心是列宗宾公式\n",
    "\n",
    "\n",
    "$T_{l} = T_{0}+b+[T_{R}-(T_{0}+b)]e^{-al} \\\\$ \n",
    "\n",
    "$a = \\frac{K\\pi D}{Gc} \\\\$\n",
    "\n",
    "$b = \\frac{gi}{ca} $\n",
    "\n",
    "\n",
    "### 需要求解的量\n",
    "- 比热容c\n",
    "- 总传热系数K\n",
    "- 水力坡降i"
   ],
   "metadata": {
    "collapsed": false
   }
  },
  {
   "cell_type": "markdown",
   "source": [
    "### 基本参数计算：\n",
    "#### 1. 常规参数设置\n",
    "- t——初始温度为45摄氏度\n",
    "- G——油品的质量流量 1200 万t/年\n",
    "- e——钢管内部粗超度 0.05 mm\n",
    "- g——重力加速度9.8 $m /s ^{2}$\n",
    "- T0——管道周围介质温度20°C\n",
    "- L——管道全长410.2km\n",
    "- h_t——管道埋深1.6m\n",
    "- T_R——加热站起点温度53°C\n",
    "- T_Z——加热站终点温度35°C"
   ],
   "metadata": {
    "collapsed": false
   }
  },
  {
   "cell_type": "code",
   "execution_count": 4,
   "outputs": [
    {
     "data": {
      "text/plain": "396.8253968253968"
     },
     "metadata": {},
     "output_type": "execute_result",
     "execution_count": 4
    }
   ],
   "source": [
    "t = 45\n",
    "G = 1200 * 10** 7 / (350 * 24 * 3600)   #kg/s\n",
    "e = 5 * 10 ** (-5)  \n",
    "g = 9.8    \n",
    "T0 = 20\n",
    "L = 410200\n",
    "h_t = 1.6\n",
    "T_R = 53\n",
    "T_Z = 35\n",
    "G"
   ],
   "metadata": {
    "collapsed": false,
    "pycharm": {
     "name": "#%%\n",
     "is_executing": false
    }
   }
  },
  {
   "cell_type": "markdown",
   "source": [
    "2. 确定油品密度函数  \n",
    "\n",
    "$\\rho _{20} =857.5(kg/m^{3})、t=45°C \\\\$\n",
    "\n",
    "$\\varepsilon_{t}=1.825-1.315\\times 10^{-3}\\rho _{20} \\\\$\n",
    "\n",
    "$\\rho =\\rho_{20}-\\varepsilon _{t}(t-2)  \\\\$\n",
    "\n",
    "$\\rho$ ——计算一个温度值对应的原油密度，kg/m3;   \n",
    "$\\rho _{20}$ ——20°C时的油品密度，kg/m3;  \n",
    "t——原油温度，°C;  \n",
    "$\\varepsilon _{t}$——温度系数，kg/(m3·°C)。"
   ],
   "metadata": {
    "collapsed": false
   }
  },
  {
   "cell_type": "code",
   "execution_count": 5,
   "outputs": [
    {
     "data": {
      "text/plain": "827.5123375"
     },
     "metadata": {},
     "output_type": "execute_result",
     "execution_count": 5
    }
   ],
   "source": [
    "def rho(t):\n",
    "    rho_20 =857.5\n",
    "    varepsilon_t=1.825-1.315 * 10**-3 * rho_20\n",
    "    rho = rho_20 - varepsilon_t * (t-2) \n",
    "    return rho\n",
    "rho(t)"
   ],
   "metadata": {
    "collapsed": false,
    "pycharm": {
     "name": "#%%\n",
     "is_executing": false
    }
   }
  },
  {
   "cell_type": "markdown",
   "source": [
    "- 用油品密度确定油品质量Q函数\n",
    "\n",
    "$Q = \\dfrac{G}{\\rho} $\n",
    "\n",
    "Q——体积流量，m3/s;   \n",
    "G——质量流量，kg/s;  \n",
    "ρ——原油密度，kg/m3"
   ],
   "metadata": {
    "collapsed": false
   }
  },
  {
   "cell_type": "code",
   "execution_count": 6,
   "outputs": [
    {
     "data": {
      "text/plain": "0.4795401577023579"
     },
     "metadata": {},
     "output_type": "execute_result",
     "execution_count": 6
    }
   ],
   "source": [
    "def Q(t):\n",
    "    Q = G/rho(t)\n",
    "    return Q\n",
    "Q(t)"
   ],
   "metadata": {
    "collapsed": false,
    "pycharm": {
     "name": "#%%\n",
     "is_executing": false
    }
   }
  },
  {
   "cell_type": "markdown",
   "source": [
    "4.用质量流量求出管道参数  \n",
    "经济流速范围1.5m/s～2m/s，取1.8m/s  \n",
    "\n",
    "$Q = \\frac{\\pi }{4}d^{2}\\upsilon $\n",
    "\n",
    "d——输油管道内径，m;   \n",
    "v ——原油流速，m/s"
   ],
   "metadata": {
    "collapsed": false
   }
  },
  {
   "cell_type": "code",
   "execution_count": 7,
   "outputs": [
    {
     "data": {
      "text/plain": "0.5824133183359554"
     },
     "metadata": {},
     "output_type": "execute_result",
     "execution_count": 7
    }
   ],
   "source": [
    "upsilon = 1.8\n",
    "d = np.sqrt(Q(t)/(np.pi/4)/upsilon)\n",
    "d"
   ],
   "metadata": {
    "collapsed": false,
    "pycharm": {
     "name": "#%%\n",
     "is_executing": false
    }
   }
  },
  {
   "cell_type": "markdown",
   "source": [
    "由《输油管道设计与管理》查到最接近的钢管尺寸：\n",
    "- 外经 D = 610 mm\n",
    "- 壁厚 h = 14.3 mm\n",
    "- 内径 d = 582.4 mm\n",
    "- 管重 210 kg/m"
   ],
   "metadata": {
    "collapsed": false
   }
  },
  {
   "cell_type": "code",
   "execution_count": 8,
   "outputs": [],
   "source": [
    "D=0.610\n",
    "h=0.0143\n",
    "d=0.5824"
   ],
   "metadata": {
    "collapsed": false,
    "pycharm": {
     "name": "#%%\n",
     "is_executing": false
    }
   }
  },
  {
   "cell_type": "markdown",
   "source": [
    "***\n",
    "### 1. 比热容c计算函数\n",
    "\n",
    "$c=4.186-0.9085e^{0.01732t} $\n"
   ],
   "metadata": {
    "collapsed": false
   }
  },
  {
   "cell_type": "code",
   "execution_count": 9,
   "outputs": [
    {
     "data": {
      "text/plain": "2205.3212106619844"
     },
     "metadata": {},
     "output_type": "execute_result",
     "execution_count": 9
    }
   ],
   "source": [
    "def c(t):\n",
    "    c=1000*(4.186-0.9085 * np.e **(0.01732 * t))\n",
    "    return c\n",
    "c(t)"
   ],
   "metadata": {
    "collapsed": false,
    "pycharm": {
     "name": "#%%\n",
     "is_executing": false
    }
   }
  },
  {
   "cell_type": "markdown",
   "source": [
    "***\n",
    "### 2. 水力坡降i计算函数\n",
    "要计算水力坡降i首先要先计算雷诺数判断流态\n",
    "雷诺数计算公式：  \n",
    "\n",
    "$Re = \\dfrac{4Q}{\\pi d\\vartheta} \\\\ $\n",
    "\n",
    "$\\varepsilon = \\dfrac{2e}{d}\\\\ $\n",
    "\n",
    "$Re_{1} = \\dfrac{59.5}{\\varepsilon^{8/7}}\\\\$\n",
    "\n",
    "$Re_{2} = \\dfrac{665-765lg\\varepsilon}{\\varepsilon}$\n",
    "\n",
    "Q——油品体积流量，m3/s  \n",
    "d——管道内径，m;  \n",
    "Re1、Re2——临界雷诺数;  \n",
    "ν——油品运动粘度，m2/s;   \n",
    "ε——管壁相对当量粗糙度;   \n",
    "e——管壁绝对当量粗糙度。   \n"
   ],
   "metadata": {
    "collapsed": false
   }
  },
  {
   "cell_type": "markdown",
   "source": [
    "#### 其中有未知数：\n",
    "- 运动粘度$\\vartheta (m ^{2}/s)$——$\\frac{\\mu}{\\rho}$\n",
    "- 管壁相对粗糙度$\\varepsilon$——$\\frac{2e}{d}$ (需要估算管径)"
   ],
   "metadata": {
    "collapsed": false
   }
  },
  {
   "cell_type": "markdown",
   "source": [
    "#### 未知参数计算\n",
    "- 运动粘度函数：\n",
    "\n",
    "$\\vartheta=\\dfrac{8000\\times e^{-0.2949t}}{\\rho} $\n"
   ],
   "metadata": {
    "collapsed": false
   }
  },
  {
   "cell_type": "code",
   "execution_count": 10,
   "outputs": [
    {
     "data": {
      "text/plain": "1.667287858002476e-05"
     },
     "metadata": {},
     "output_type": "execute_result",
     "execution_count": 10
    }
   ],
   "source": [
    "def vartheta(t):\n",
    "    vartheta=8000 * np.e ** (-0.2949 * t)/rho(t)\n",
    "    return vartheta\n",
    "vartheta(t)"
   ],
   "metadata": {
    "collapsed": false,
    "pycharm": {
     "name": "#%%\n",
     "is_executing": false
    }
   }
  },
  {
   "cell_type": "markdown",
   "source": [
    "- 管壁相对粗糙度计算式\n",
    "$\\varepsilon = \\dfrac{2e}{d}$"
   ],
   "metadata": {
    "collapsed": false
   }
  },
  {
   "cell_type": "code",
   "execution_count": 11,
   "outputs": [
    {
     "data": {
      "text/plain": "0.0001717032967032967"
     },
     "metadata": {},
     "output_type": "execute_result",
     "execution_count": 11
    }
   ],
   "source": [
    "varepsilon = 2*e/d\n",
    "varepsilon"
   ],
   "metadata": {
    "collapsed": false,
    "pycharm": {
     "name": "#%%\n",
     "is_executing": false
    }
   }
  },
  {
   "cell_type": "markdown",
   "source": [
    "#### 雷诺数计算\n",
    "雷诺数计算公式：  \n",
    "\n",
    "$Re = \\dfrac{4Q}{\\pi d\\vartheta} \\\\$\n",
    "\n",
    "$Re_{1} = \\dfrac{59.5}{\\varepsilon^{8/7}}\\\\$\n",
    "\n",
    "$Re_{2} = \\dfrac{665-765lg\\varepsilon}{\\varepsilon}$"
   ],
   "metadata": {
    "collapsed": false
   }
  },
  {
   "cell_type": "code",
   "execution_count": 12,
   "outputs": [
    {
     "data": {
      "text/plain": "(62878.64099326381, 1195713.406523121, 20648376.66658056)"
     },
     "metadata": {},
     "output_type": "execute_result",
     "execution_count": 12
    }
   ],
   "source": [
    "def Re(t):\n",
    "    Re = 4 * Q(t) / (np.pi*d*vartheta(t))\n",
    "    return Re\n",
    "Re1 = 59.5/varepsilon**(8/7)\n",
    "Re2 = (665-765*np.log10(varepsilon))/varepsilon\n",
    "\n",
    "Re(t),Re1,Re2"
   ],
   "metadata": {
    "collapsed": false,
    "pycharm": {
     "name": "#%%\n",
     "is_executing": false
    }
   }
  },
  {
   "cell_type": "markdown",
   "source": [
    "不同流态下Re的数值范围  \n",
    "\n",
    "流态|划分范围|水力坡降i|水力摩阻系数$\\lambda$\n",
    ":-:|:-:|:-:|:----:\n",
    "层流 | Re<2000 | $\\dfrac{4.15Q\\vartheta}{d^{4}}$ | $\\lambda = \\dfrac{64}{Re}$\n",
    "过渡流 | 2000≤Re≤3000 | $0.0124Q^{1.75} \\vartheta^{0.25}$ | $\\frac{1}{\\sqrt{\\lambda}}=1.811gRe-1.53,\\lambda = 0.3164Re^{-0.25}$\n",
    "水力光滑区 | 3000<Re≤Re1 | $0.0246\\dfrac{Q^{1.75}\\vartheta^{0.25}}{d^{4.75}}$ | $\\frac{1}{\\sqrt{\\lambda}}=-2lg\\left ( \\frac{e}{3.7d}+\\frac{2.51}{Re\\sqrt{\\lambda}}\\right ) , \\lambda = 0.11(\\frac{e}{d}+\\frac{68}{Re})^{0.25}$\n",
    "混合摩擦区 | Re1<Re≤Re2 | $0.0802A \\dfrac{Q^{1.877}\\vartheta^{0.123}}{d^{4.877}}$ | $\\frac{1}{\\sqrt{\\lambda}}=-2lg\\left ( \\frac{e}{3.7d}+\\frac{2.51}{Re\\sqrt{\\lambda}}\\right ) , \\lambda = 0.11(\\frac{e}{d}+\\frac{68}{Re})^{0.25}$\n",
    "完全粗糙区 | Re>Re2 | $0.0826\\lambda\\dfrac{Q^{2}}{d^{5}}$ | $\\lambda = \\frac{1}{(1.74 - 2lg \\epsilon )^{2}}$"
   ],
   "metadata": {
    "collapsed": false
   }
  },
  {
   "cell_type": "markdown",
   "source": [
    "由结果可以看出流态处于水力光滑区  \n",
    "\n",
    "$ i =0.0246\\dfrac{Q^{1.75}\\vartheta^{0.25}}{d^{4.75}}$\n"
   ],
   "metadata": {
    "collapsed": false
   }
  },
  {
   "cell_type": "code",
   "execution_count": 13,
   "outputs": [
    {
     "data": {
      "text/plain": "0.0056634358043659815"
     },
     "metadata": {},
     "output_type": "execute_result",
     "execution_count": 13
    }
   ],
   "source": [
    "def i(t):\n",
    "    if Re(t) < 2000:\n",
    "        num_i = 4.15 * Q(t) * vartheta(t) / d ** 4\n",
    "    if Re(t) >= 2000 and Re(t) <= 3000:\n",
    "        num_i = 0.0124 * Q(t) ** 1.75 * vartheta(t) ** 0.25\n",
    "    if Re(t) > 3000 and Re(t) <= Re1:\n",
    "        num_i = 0.0246 * Q(t) ** 1.75 * vartheta(t) ** 0.25 / d ** 4.75\n",
    "    if Re(t) > Re1 and Re(t) <= Re2:\n",
    "        A = 10 ** (0.127 * np.log10(e/d) * 0.627 )\n",
    "        num_i = 0.0802 * A * Q(t) ** 1.899 * vartheta(t) ** 0.123 / d ** 4.877\n",
    "    if Re(t) > Re2:\n",
    "        lambd = 0.11 * (e/d) ** 0.25\n",
    "        num_i = 0.0826 * lambd * Q(t) ** 2 / d ** 5\n",
    "    return num_i\n",
    "i(t)"
   ],
   "metadata": {
    "collapsed": false,
    "pycharm": {
     "name": "#%%\n",
     "is_executing": false
    }
   }
  },
  {
   "cell_type": "markdown",
   "source": [
    "***\n",
    "### 3. 总传热系数K计算\n",
    "\n",
    "$K = \\frac{1}{\\frac{1}{\\alpha _{1}}+\\frac{1}{\\alpha _{2}}+\\frac{\\delta _{1}}{\\lambda _{1}}+\\frac{\\delta _{2}}{\\lambda _{2}}} $\n",
    "\n",
    "- $\\alpha _{1}$——油流到管内壁放热系数（通过雷诺系数确定计算式，若紊流状态下$\\alpha _{1}$要比层流时大得多，通常情况下二者 可能相差数十倍。因此，紊流时的$\\alpha _{1}$对总传热系数的影响很小，可以忽略）\n",
    "- $\\alpha _{2}$——管壁至土壤的放热系数（$\\lambda _{t}$ =1.4 W/m·°C）   \n",
    "$\\alpha _{2} = \\frac{2\\lambda _{t}}{Dln\\left [\\frac{2h_{t}}{D} +\\sqrt{(\\frac{2h_{t}}{D})^{2}-1}\\right ]}$\n",
    "    - $h _{t}$为管埋深度1.6m\n",
    "- $\\alpha _{3}$——钢的放热系数：$\\lambda _{1} = 48 W/m·°C, \\delta _{1}=h=0.0143m$\n",
    "- $\\alpha _{4}$——沥青的放热系数：$\\lambda _{2} = 0.15 W/m·°C,  \\delta _{2} = 8 \\times 10^{-5}m$"
   ],
   "metadata": {
    "collapsed": false
   }
  },
  {
   "cell_type": "code",
   "execution_count": 14,
   "outputs": [
    {
     "data": {
      "text/plain": "(0.5100871169835972, 0.00029791666666666665, 0.0005333333333333334)"
     },
     "metadata": {},
     "output_type": "execute_result",
     "execution_count": 14
    }
   ],
   "source": [
    "lambda_t =1.4\n",
    "alpha2 = 2 * lambda_t/(D * np.log(2*h_t/D + np.sqrt((2*h_t/D)**2 - 1)))\n",
    "delta1= h\n",
    "delta2= 0.00008\n",
    "lambda_1 = 48\n",
    "lambda_2 = 0.15\n",
    "K = 1/(1/alpha2+ delta1/lambda_1 + delta2/lambda_2)\n",
    "1/alpha2, delta1/lambda_1, delta2/lambda_2"
   ],
   "metadata": {
    "collapsed": false,
    "pycharm": {
     "name": "#%%\n",
     "is_executing": false
    }
   }
  },
  {
   "cell_type": "markdown",
   "source": [
    "***\n",
    "### 需要求解的量已经求解完毕，下面来计算T关于l的函数\n",
    "- 比热容c\n",
    "- 总传热系数K\n",
    "- 水力坡降i\n",
    "\n",
    "$T_{l} = T_{0}+b+[T_{R}-(T_{0}+b)]e^{-al}  \\\\ $\n",
    "\n",
    "$a = \\frac{K\\pi D}{Gc}  \\\\ $\n",
    "\n",
    "$b = \\frac{gi}{ca}$\n"
   ],
   "metadata": {
    "collapsed": false
   }
  },
  {
   "cell_type": "code",
   "execution_count": 15,
   "outputs": [
    {
     "data": {
      "text/plain": "4.286046501155319e-06"
     },
     "metadata": {},
     "output_type": "execute_result",
     "execution_count": 15
    }
   ],
   "source": [
    "def a(t):\n",
    "    a = K*np.pi*D / (G * c(t)) \n",
    "    return a\n",
    "a(t)"
   ],
   "metadata": {
    "collapsed": false,
    "pycharm": {
     "name": "#%%\n",
     "is_executing": false
    }
   }
  },
  {
   "cell_type": "code",
   "execution_count": 16,
   "outputs": [
    {
     "data": {
      "text/plain": "5.871882070198885"
     },
     "metadata": {},
     "output_type": "execute_result",
     "execution_count": 16
    }
   ],
   "source": [
    "def b(t):\n",
    "    b = g * i(t) / (c(t) * a(t))\n",
    "    return b\n",
    "b(t)"
   ],
   "metadata": {
    "collapsed": false,
    "pycharm": {
     "name": "#%%\n",
     "is_executing": false
    }
   }
  },
  {
   "cell_type": "markdown",
   "source": [
    "#### 在计算温度之前需要先确定布置加热站，来得到两站之间的距离l的函数\n",
    "石油凝点为30°C，进入加热站的温度要高于凝点温度3～5°C，在此设为35°C  \n",
    "加热站数——$n _{R} = \\frac {L}{l _{R}}$   \n",
    "加热间距——$l _{R} = \\frac{Gc}{K\\pi D}ln\\frac {T_{R}-T_{0}-b}{T_{z}-T_{0}-b}$"
   ],
   "metadata": {
    "collapsed": false
   }
  },
  {
   "cell_type": "code",
   "execution_count": 17,
   "outputs": [
    {
     "data": {
      "text/plain": "254129.58530415467"
     },
     "metadata": {},
     "output_type": "execute_result",
     "execution_count": 17
    }
   ],
   "source": [
    "def l_R(t):\n",
    "    l_R = G *c(t)/(K*np.pi*D) *np.log((T_R - T0-b(t))/(T_Z-T0-b(t)))\n",
    "    return l_R\n",
    "l_R(t)"
   ],
   "metadata": {
    "collapsed": false,
    "pycharm": {
     "name": "#%%\n",
     "is_executing": false
    }
   }
  },
  {
   "cell_type": "code",
   "execution_count": 18,
   "outputs": [
    {
     "data": {
      "text/plain": "2.0"
     },
     "metadata": {},
     "output_type": "execute_result",
     "execution_count": 18
    }
   ],
   "source": [
    "def n_R(t):\n",
    "    n_R =np.ceil(L/l_R(t))\n",
    "    return n_R\n",
    "n_R(t)"
   ],
   "metadata": {
    "collapsed": false,
    "pycharm": {
     "name": "#%%\n",
     "is_executing": false
    }
   }
  },
  {
   "cell_type": "code",
   "execution_count": 19,
   "outputs": [
    {
     "data": {
      "text/plain": "136733.33333333334"
     },
     "metadata": {},
     "output_type": "execute_result",
     "execution_count": 19
    }
   ],
   "source": [
    "def l(t):\n",
    "    l = L/(n_R(t)+1)\n",
    "    return l\n",
    "l(t)"
   ],
   "metadata": {
    "collapsed": false,
    "pycharm": {
     "name": "#%%\n",
     "is_executing": false
    }
   }
  },
  {
   "cell_type": "code",
   "execution_count": 20,
   "outputs": [
    {
     "data": {
      "text/plain": "(36.51713406336666, 2205.3212106619844, 0.0056634358043659815)"
     },
     "metadata": {},
     "output_type": "execute_result",
     "execution_count": 20
    }
   ],
   "source": [
    "l = l(t)\n",
    "num_b = b(t)\n",
    "def T_l(t, l):\n",
    "    T_l = T0 + num_b + (t - (T0 + num_b))*np.e**(-a(t)*l)\n",
    "    return T_l\n",
    "T_l(t, l),c(t), i(t)"
   ],
   "metadata": {
    "collapsed": false,
    "pycharm": {
     "name": "#%%\n",
     "is_executing": false
    }
   }
  },
  {
   "cell_type": "code",
   "execution_count": 21,
   "outputs": [
    {
     "data": {
      "text/plain": "411"
     },
     "metadata": {},
     "output_type": "execute_result",
     "execution_count": 21
    }
   ],
   "source": [
    "n = 0\n",
    "k = 0\n",
    "tem = []\n",
    "while True:\n",
    "    n += 1000\n",
    "    tem.append(T_l(53, n))\n",
    "    if n > l:\n",
    "        k +=1\n",
    "        n = 0\n",
    "    if k == 3:\n",
    "        break\n",
    "\n",
    "len(tem)"
   ],
   "metadata": {
    "collapsed": false,
    "pycharm": {
     "name": "#%%\n",
     "is_executing": false
    }
   }
  },
  {
   "cell_type": "markdown",
   "source": [
    "###  画出温度曲线模型\n",
    "***"
   ],
   "metadata": {
    "collapsed": false,
    "pycharm": {
     "name": "#%% md\n"
    }
   }
  },
  {
   "cell_type": "code",
   "execution_count": 22,
   "outputs": [
    {
     "data": {
      "text/plain": "411"
     },
     "metadata": {},
     "output_type": "execute_result",
     "execution_count": 22
    },
    {
     "data": {
      "text/plain": "<Figure size 432x288 with 1 Axes>",
      "image/png": "[encoded data removed]"
     },
     "metadata": {
      "needs_background": "light"
     },
     "output_type": "display_data"
    }
   ],
   "source": [
    "x = np.arange(0, L, 1000)\n",
    "y = tem\n",
    "plt.plot(x/1000, y, label ='linear')\n",
    "len(x)\n"
   ],
   "metadata": {
    "collapsed": false,
    "pycharm": {
     "name": "#%%\n",
     "is_executing": false
    }
   }
  },
  {
   "cell_type": "markdown",
   "source": [
    "***\n",
    "## 前面加热站计算完毕下面计算泵站\n",
    "### 压力计算公式\n",
    "$\n",
    "压力P=长度/高度 \\times 密度\\rho \\times g\n",
    "$\n",
    "### 泵站要求：\n",
    "- 泵站入口最低压力P_min = 0.5MPa  \n",
    "- 泵站出口最高压力P_max = 6MPa    \n",
    "### 首先计算流量，选用泵"
   ],
   "metadata": {
    "collapsed": false
   }
  },
  {
   "cell_type": "code",
   "execution_count": 23,
   "outputs": [
    {
     "data": {
      "text/plain": "739.8619575979236"
     },
     "metadata": {},
     "output_type": "execute_result",
     "execution_count": 23
    }
   ],
   "source": [
    "P_min = 0.5 * 10 ** 6\n",
    "P_max = 6 * 10 ** 6\n",
    "def h_max(t):\n",
    "    h_max = P_max / rho(t)/g\n",
    "    return h_max\n",
    "h_max(t)"
   ],
   "metadata": {
    "collapsed": false,
    "pycharm": {
     "name": "#%%\n",
     "is_executing": false
    }
   }
  },
  {
   "cell_type": "code",
   "execution_count": 24,
   "outputs": [
    {
     "data": {
      "text/plain": "1726.3445677284885"
     },
     "metadata": {},
     "output_type": "execute_result",
     "execution_count": 24
    }
   ],
   "source": [
    "def Q_h(t):    # 计算每小时的流量，用于选用泵\n",
    "    Q_h = Q(t) * 3600\n",
    "    return Q_h\n",
    "Q_h(t)"
   ],
   "metadata": {
    "collapsed": false,
    "pycharm": {
     "name": "#%%\n",
     "is_executing": false
    }
   }
  },
  {
   "cell_type": "markdown",
   "source": [
    "### HSB14-14-14-16.5I型号泵扬程-流程曲线拟合\n",
    "#### 数据集：  \n",
    "x =[35.48774,139.62958,283.44449,432.21854,580.99259,744.64404,928.13204,1176.08879,1424.04553,1672.00228,1964.59124,2321.64896,2653.911,2966.33651,3219.25239]   \n",
    "y =  \n",
    "[252.16587,251.96386,251.55983,252.16587,252.16587,252.36788,252.16587,251.96386,250.75178,250.14575,246.91355,239.03506,229.94451,219.84389,208.7332]"
   ],
   "metadata": {
    "collapsed": false
   }
  },
  {
   "cell_type": "code",
   "execution_count": 25,
   "outputs": [
    {
     "name": "stdout",
     "text": [
      "x is :\n [  35.48774  139.62958  283.44449  432.21854  580.99259  744.64404\n  928.13204 1176.08879 1424.04553 1672.00228 1964.59124 2321.64896\n 2653.911   2966.33651 3219.25239]\ny is :\n [252.16587 251.96386 251.55983 252.16587 252.16587 252.36788 252.16587\n 251.96386 250.75178 250.14575 246.91355 239.03506 229.94451 219.84389\n 208.7332 ]\n15\n15\nf1 is :\n [-2.14445020e-09  2.73686013e-06 -7.18083170e-05  2.51826825e+02]\np1 is :\n             3             2\n-2.144e-09 x + 2.737e-06 x - 7.181e-05 x + 251.8\nyvals is :\n [251.82762794 251.86431997 251.97751941 252.1339177  252.28837914\n 252.4054822  252.40325798 252.03947536 251.08185358 249.33423954\n 245.98853747 239.57668644 230.82825817 219.72304314 208.41405197]\n"
     ],
     "output_type": "stream"
    },
    {
     "data": {
      "text/plain": "<Figure size 432x288 with 1 Axes>",
      "image/png": "[encoded data removed]"
     },
     "metadata": {
      "needs_background": "light"
     },
     "output_type": "display_data"
    }
   ],
   "source": [
    "#定义x、y散点坐标\n",
    "x = [35.48774,139.62958,283.44449,432.21854,580.99259,744.64404,928.13204,1176.08879,1424.04553,1672.00228,1964.59124,2321.64896,2653.911,2966.33651,3219.25239]\n",
    "x = np.array(x)\n",
    "print('x is :\\n',x)\n",
    "num = [ 252.16587,251.96386,251.55983,252.16587,252.16587,252.36788,252.16587,251.96386,250.75178,250.14575,246.91355,239.03506,229.94451,219.84389,208.7332]\n",
    "y = np.array(num)\n",
    "print('y is :\\n',y)\n",
    "print(len(x))\n",
    "print(len(num))\n",
    "#用3次多项式拟合\n",
    "f1 = np.polyfit(x, y, 3)\n",
    "print('f1 is :\\n',f1)\n",
    "\n",
    "p1 = np.poly1d(f1)\n",
    "print('p1 is :\\n',p1)\n",
    "yvals = p1(x)  #拟合y值\n",
    "print('yvals is :\\n',yvals)\n",
    "\n",
    "#绘图\n",
    "plot1 = plt.plot(x, y, 's',label='original values')\n",
    "plot2 = plt.plot(x, yvals, 'r',label='polyfit values')\n",
    "plt.xlabel('x')\n",
    "plt.ylabel('y')\n",
    "plt.legend(loc=4) #指定legend的位置右下角\n",
    "plt.title('polyfitting')\n",
    "plt.show()"
   ],
   "metadata": {
    "collapsed": false,
    "pycharm": {
     "name": "#%%\n",
     "is_executing": false
    }
   }
  },
  {
   "cell_type": "markdown",
   "source": [
    "#### 由结果可以得到HSB14-14-14-16.5I型号扬程-流程的拟合方程"
   ],
   "metadata": {
    "collapsed": false
   }
  },
  {
   "cell_type": "code",
   "execution_count": 26,
   "outputs": [
    {
     "data": {
      "text/plain": "251.799966193382"
     },
     "metadata": {},
     "output_type": "execute_result",
     "execution_count": 26
    }
   ],
   "source": [
    "def H1_Q(Q):\n",
    "    H1 = -2.144* 10 **(-9) * Q ** 3 + 2.737 * 10 ** (-6) * Q ** 2 - 7.181 * 10 ** (-5) * Q + 251.8\n",
    "    return H1\n",
    "H1_Q(Q(t))"
   ],
   "metadata": {
    "collapsed": false,
    "pycharm": {
     "name": "#%%\n",
     "is_executing": false
    }
   }
  },
  {
   "cell_type": "markdown",
   "source": [
    "### ZMIPII型号泵扬程-流程曲线拟合\n",
    "#### 数据集：  \n",
    "x =[30.87812,140.98369,331.16603,431.262,706.52591,836.65067,951.76104,1262.05854,1497.28407,1722.5,1922.69194,2132.89347,2308.06142,2483.22937,2668.40691,2823.55566,3013.738]   \n",
    "y =  \n",
    "[138.19001,138.01303,137.83606,137.77707,137.24615,137.01018,136.77422,136.00734,135.06348,134.35559,133.5887,132.40888,130.93411,129.6363,127.80758,125.97886,124.09114]"
   ],
   "metadata": {
    "collapsed": false
   }
  },
  {
   "cell_type": "code",
   "execution_count": 27,
   "outputs": [
    {
     "name": "stdout",
     "text": [
      "x is :\n [  30.87812  140.98369  331.16603  431.262    706.52591  836.65067\n  951.76104 1262.05854 1497.28407 1722.5     1922.69194 2132.89347\n 2308.06142 2483.22937 2668.40691 2823.55566 3013.738  ]\ny is :\n [138.19001 138.01303 137.83606 137.77707 137.24615 137.01018 136.77422\n 136.00734 135.06348 134.35559 133.5887  132.40888 130.93411 129.6363\n 127.80758 125.97886 124.09114]\n17\n17\nf1 is :\n [-5.24295240e-10  5.42267095e-07 -1.62673595e-03  1.38288506e+02]\np1 is :\n             3             2\n-5.243e-10 x + 5.423e-07 x - 0.001627 x + 138.3\nyvals is :\n [138.23877701 138.06847184 137.79021518 137.6457579  137.22495322\n 137.0000252  136.77943209 136.04525209 135.30860464 134.41586409\n 133.43888312 132.19849783 130.97622514 129.56444619 127.84720016\n 126.21627825 123.95981605]\n"
     ],
     "output_type": "stream"
    },
    {
     "data": {
      "text/plain": "<Figure size 432x288 with 1 Axes>",
      "image/png": "[encoded data removed]"
     },
     "metadata": {
      "needs_background": "light"
     },
     "output_type": "display_data"
    }
   ],
   "source": [
    "#定义x、y散点坐标\n",
    "x = [30.87812,140.98369,331.16603,431.262,706.52591,836.65067,951.76104,1262.05854,1497.28407,1722.5,1922.69194,2132.89347,2308.06142,2483.22937,2668.40691,2823.55566,3013.738]\n",
    "x = np.array(x)\n",
    "print('x is :\\n',x)\n",
    "num = [138.19001,138.01303,137.83606,137.77707,137.24615,137.01018,136.77422,136.00734,135.06348,134.35559,133.5887,132.40888,130.93411,129.6363,127.80758,125.97886,124.09114]\n",
    "y = np.array(num)\n",
    "print('y is :\\n',y)\n",
    "print(len(x))\n",
    "print(len(num))\n",
    "#用3次多项式拟合\n",
    "f1 = np.polyfit(x, y, 3)\n",
    "print('f1 is :\\n',f1)\n",
    "\n",
    "p1 = np.poly1d(f1)\n",
    "print('p1 is :\\n',p1)\n",
    "yvals = p1(x)  #拟合y值\n",
    "print('yvals is :\\n',yvals)\n",
    "\n",
    "#绘图\n",
    "plot1 = plt.plot(x, y, 's',label='original values')\n",
    "plot2 = plt.plot(x, yvals, 'r',label='polyfit values')\n",
    "plt.xlabel('x')\n",
    "plt.ylabel('y')\n",
    "plt.legend(loc=4) #指定legend的位置右下角\n",
    "plt.title('polyfitting')\n",
    "plt.show()"
   ],
   "metadata": {
    "collapsed": false,
    "pycharm": {
     "name": "#%%\n",
     "is_executing": false
    }
   }
  },
  {
   "cell_type": "markdown",
   "source": [
    "#### 由结果可以得到ZMIPII型号扬程-流程的拟合方程"
   ],
   "metadata": {
    "collapsed": false
   }
  },
  {
   "cell_type": "code",
   "execution_count": 28,
   "outputs": [
    {
     "data": {
      "text/plain": "138.29921991281225"
     },
     "metadata": {},
     "output_type": "execute_result",
     "execution_count": 28
    }
   ],
   "source": [
    "def H2_Q(Q):\n",
    "    H2 = -5.243 * 10 **(-10) * Q ** 3 +5.423 * 10 ** (-7) * Q ** 2 - 0.001627 * Q + 138.3\n",
    "    return H2\n",
    "H2_Q(Q(t))"
   ],
   "metadata": {
    "collapsed": false,
    "pycharm": {
     "name": "#%%\n",
     "is_executing": false
    }
   }
  },
  {
   "cell_type": "markdown",
   "source": [
    "#### 组合泵选择\n",
    "- HSB14-14-14-16.5I型号泵在流量为1726$m ^{3}/h$时扬程约为252m\n",
    "- ZMIPII型号泵在流量为1726$m ^{3}/h$时扬程约为138m   \n",
    "综上，由于6MPa对应扬程约为740m，故采用2台HSB14-14-14-16.5I型号泵与一台ZMIPII型号泵串联扬程为640m以接近740m扬程"
   ],
   "metadata": {
    "collapsed": false
   }
  },
  {
   "cell_type": "code",
   "execution_count": 29,
   "outputs": [
    {
     "data": {
      "text/plain": "(641.8991522995763, 5705558.7859951705, 5205558.7859951705)"
     },
     "metadata": {},
     "output_type": "execute_result",
     "execution_count": 29
    }
   ],
   "source": [
    "H_sum =  2 * H1_Q(Q(t)) +  H2_Q(Q(t))\n",
    "def P_beng(t):\n",
    "    P_beng =  H_sum*rho(t)*g\n",
    "    return P_beng\n",
    "P0 = H_sum*rho(t)*g + 500000\n",
    "H_sum,P0,P_beng(t)"
   ],
   "metadata": {
    "collapsed": false,
    "pycharm": {
     "name": "#%%\n",
     "is_executing": false
    }
   }
  },
  {
   "cell_type": "markdown",
   "source": [
    "### 泵站个数确定"
   ],
   "metadata": {
    "collapsed": false
   }
  },
  {
   "cell_type": "code",
   "execution_count": 30,
   "outputs": [
    {
     "data": {
      "text/plain": "3.7152199399869192"
     },
     "metadata": {},
     "output_type": "execute_result",
     "execution_count": 30
    }
   ],
   "source": [
    "h_sz = 500000 / (rho(t) * g)\n",
    "n_beng = (i(t) * L + h_sz)/ H_sum\n",
    "n_beng"
   ],
   "metadata": {
    "collapsed": false,
    "pycharm": {
     "name": "#%%\n",
     "is_executing": false
    }
   }
  },
  {
   "cell_type": "code",
   "execution_count": 31,
   "outputs": [
    {
     "data": {
      "text/plain": "102550.0"
     },
     "metadata": {},
     "output_type": "execute_result",
     "execution_count": 31
    }
   ],
   "source": [
    "beng_l = L / 4\n",
    "beng_l"
   ],
   "metadata": {
    "collapsed": false,
    "pycharm": {
     "name": "#%%\n",
     "is_executing": false
    }
   }
  },
  {
   "cell_type": "code",
   "execution_count": 41,
   "outputs": [
    {
     "name": "stderr",
     "text": [
      "/Users/jiangweixin/.conda/envs/ex/lib/python3.7/site-packages/ipykernel_launcher.py:6: RuntimeWarning: overflow encountered in double_scalars\n  \n"
     ],
     "output_type": "stream"
    },
    {
     "data": {
      "text/plain": "[<matplotlib.lines.Line2D at 0x113abcfd0>]"
     },
     "metadata": {},
     "output_type": "execute_result",
     "execution_count": 41
    },
    {
     "data": {
      "text/plain": "<Figure size 432x288 with 1 Axes>",
      "image/png": "[encoded data removed]"
     },
     "metadata": {
      "needs_background": "light"
     },
     "output_type": "display_data"
    }
   ],
   "source": [
    "g = 9.8\n",
    "H_sum =  2 * H1_Q(Q(t)) +  H2_Q(Q(t))\n",
    "array_i = []\n",
    "for j in range(len(tem)):\n",
    "    x = j * 1000\n",
    "    num_i = (H_sum-i(tem[j])*1000 - change_H(j))\n",
    "    H_sum = num_i\n",
    "    # num_i = H_sum-i(tem[j])*1000 -change_H(j)\n",
    "    array_i.append(num_i)\n",
    "num_x = np.arange(0,  L , 1000)\n",
    "plt.plot(num_x/1000, array_i, label ='linear')\n",
    "\n"
   ],
   "metadata": {
    "collapsed": false,
    "pycharm": {
     "name": "#%%\n",
     "is_executing": false
    }
   }
  },
  {
   "cell_type": "code",
   "execution_count": 33,
   "outputs": [
    {
     "data": {
      "text/plain": "[5705495.572363926,\n 5705542.62485918,\n 5705799.378049287,\n 5706265.831791409,\n 5706941.985943532,\n 5707827.840364466,\n 5708923.394913868,\n 5710228.649452236,\n 5711743.603840929,\n 5713468.257942176,\n 5715402.611619079,\n 5717546.664735626,\n 5719900.417156702,\n 5722463.868748092,\n 5725237.019376493,\n 5728219.868909523,\n 5731412.417215728,\n 5734814.66416459,\n 5738426.609626535,\n 5742248.253472944,\n 5746279.595576152,\n 5750520.635809469,\n 5754971.374047173,\n 5759631.81016453,\n 5764501.9440377895,\n 5769581.775544203,\n 5774871.30456202,\n 5780370.530970504,\n 5786079.454649932,\n 5791998.075481605,\n 5798126.393347854,\n 5804464.408132043,\n 5811012.119718579,\n 5817769.527992915,\n 5824736.632841557,\n 5831913.43415207,\n 5839299.931813082,\n 5846896.125714289,\n 5854702.015746462,\n 5862717.601801451,\n 5870942.883772191,\n 5879377.861552702,\n 5888022.5350381015,\n 5896876.904124602,\n 5905940.968709516,\n 5915214.728691268,\n 5924698.183969386,\n 5934391.334444515,\n 5944294.180018418,\n 5954406.720593976,\n 5964728.956075197,\n 5975260.886367217,\n 5986002.511376301,\n 5996953.831009849,\n 6008114.845176399,\n 6019485.553785627,\n 6031065.9567483505,\n 6042856.053976535,\n 6054855.845383289,\n 6067065.330882875,\n 6079484.510390703,\n 6092113.383823336,\n 6104951.951098496,\n 6118000.212135059,\n 6131258.16685306,\n 6144725.815173694,\n 6158403.157019317,\n 6172290.192313448,\n 6186386.920980768,\n 6200693.342947125,\n 6215209.45813953,\n 6229935.266486162,\n 6244870.767916365,\n 6260015.9623606475,\n 6275370.849750691,\n 6290935.4300193405,\n 6306709.7031006105,\n 6322693.668929682,\n 6338887.327442904,\n 6355290.678577793,\n 6371903.72227303,\n 6388726.458468467,\n 6405758.887105118,\n 6423001.008125164,\n 6440452.821471949,\n 6458114.327089982,\n 6475985.524924934,\n 6494066.414923636,\n 6512356.997034082,\n 6530857.271205421,\n 6549567.237387961,\n 6568486.895533167,\n 6587616.245593657,\n 6606955.287523202,\n 6626504.021276722,\n 6646262.446810287,\n 6666230.564081115,\n 6686408.373047565,\n 6706795.873669142,\n 6727393.065906487,\n 6748199.949721384,\n 6769216.525076746,\n 6790442.791936622,\n 6811878.750266192,\n 6833524.4000317585,\n 6855379.741200754,\n 6877444.773741729,\n 6899719.497624352,\n 6922203.912819408,\n 6944898.019298794,\n 6967801.817035516,\n 6990915.306003684,\n 7014238.486178513,\n 7037771.357536313,\n 7061513.920054492,\n 7085466.173711549,\n 7109628.118487068,\n 7133999.754361722,\n 7158581.081317259,\n 7183372.099336506,\n 7208372.8084033625,\n 7233583.208502795,\n 7259003.299620834,\n 7284633.081744571,\n 7310472.554862153,\n 7336521.7189627765,\n 7362780.574036687,\n 7389249.120075172,\n 7415927.357070557,\n 7442815.285016201,\n 7469912.9039064925,\n 7497220.213736842,\n 7524737.214503683,\n 7552463.906204461,\n 7580400.288837633,\n 7608546.362402661,\n 7636902.126900006,\n 7665472.737485762,\n 7694253.048910015,\n 7723243.061029122,\n 7752442.773700245,\n 7781852.186781367,\n 7811471.300131302,\n 7841300.113609703,\n 7871338.627077071,\n 7901586.840394764,\n 7932044.753425011,\n 7962712.366030914,\n 7993589.678076462,\n 8024676.689426538,\n 8055973.399946927,\n 8087479.809504328,\n 8119195.917966358,\n 8151121.725201564,\n 8183257.231079426,\n 8215602.435470371,\n 8248157.338245779,\n 8280921.939277988,\n 8313896.238440305,\n 8347080.235607009,\n 8380473.930653365,\n 8414077.323455624,\n 8447890.413891038,\n 8481913.201837856,\n 8516145.68717534,\n 8550587.869783767,\n 8585239.74954444,\n 8620101.32633969,\n 8655172.60005288,\n 8690453.570568416,\n 8725944.237771751,\n 8761644.601549394,\n 8797554.661788909,\n 8833674.418378921,\n 8870003.871209128,\n 8906543.0201703,\n 8943291.865154289,\n 8980250.406054027,\n 9017418.642763538,\n 9054796.575177938,\n 9092384.203193437,\n 9130181.526707353,\n 9168188.545618106,\n 9206405.259825224,\n 9244831.669229353,\n 9283467.773732254,\n 9322313.573236814,\n 9361369.067647036,\n 9400634.256868055,\n 9440109.140806139,\n 9479793.719368687,\n 9519687.992464237,\n 9559791.960002465,\n 9600105.62189419,\n 9640628.978051374,\n 9681362.028387127,\n 9722304.772815714,\n 9763457.21125254,\n 9804819.343614174,\n 9846391.169818334,\n 9888172.689783897,\n 9930163.903430898,\n 9972364.810680531,\n 10014775.411455154,\n 10057395.705678284,\n 10100225.693274606,\n 10143265.374169964,\n 10186514.74829137,\n 10229973.815567002,\n 10273642.575926203,\n 10317521.029299488,\n 10361609.175618533,\n 10405907.014816184,\n 10450414.546826454,\n 10495131.771584524,\n 10540058.689026747,\n 10585195.299090635,\n 10630541.601714874,\n 10676097.59683931,\n 10721863.284404961,\n 10767838.664354008,\n 10814023.736629793,\n 10860418.501176827,\n 10907022.957940778,\n 10953837.10686848,\n 11000860.947907925,\n 11048094.481008263,\n 11095537.706119804,\n 11143190.623194009,\n 11191053.232183501,\n 11239125.533042047,\n 11287407.525724567,\n 11335899.210187133,\n 11384600.58638696,\n 11433511.654282412,\n 11482632.413832989,\n 11531962.864999333,\n 11581503.007743228,\n 11631252.84202759,\n 11681212.367816467,\n 11731381.585075036,\n 11781760.493769603,\n 11832349.093867598,\n 11883147.385337573,\n 11934155.368149197,\n 11985373.042273253,\n 12036800.407681638,\n 12088437.464347359,\n 12140284.212244526,\n 12192340.651348354,\n 12244606.781635154,\n 12297082.603082333,\n 12349768.115668388,\n 12402663.319372907,\n 12455768.214176562,\n 12509082.8000611,\n 12562607.077009346,\n 12616341.045005202,\n 12670284.704033636,\n 12724438.054080676,\n 12778801.095133414,\n 12833373.827179996,\n 12888156.25020962,\n 12943148.364212532,\n 12998350.169180017,\n 13053761.665104402,\n 13109382.851979045,\n 13165213.729798336,\n 13221254.298557686,\n 13277504.558253527,\n 13333964.508883305,\n 13390634.150445476,\n 13447513.482939502,\n 13504602.506365847,\n 13561906.375880603,\n 13619419.946233857,\n 13677143.217281964,\n 13735076.188882085,\n 13793218.860892208,\n 13851571.233171145,\n 13910133.305578545,\n 13968905.077974912,\n 14027886.550221607,\n 14087077.722180855,\n 14146478.593715757,\n 14206089.164690305,\n 14265909.434969379,\n 14325939.404418768,\n 14386179.07290517,\n 14446628.4402962,\n 14507287.506460404,\n 14568156.271267265,\n 14629234.734587211,\n 14690522.89629162,\n 14752020.756252829,\n 14813728.314344145,\n 14875645.570439849,\n 14937772.524415206,\n 15000109.176146466,\n 15062655.52551088,\n 15125411.572386697,\n 15188377.316653179,\n 15251552.758190608,\n 15314937.896880282,\n 15378532.732604532,\n 15442337.265246721,\n 15506351.494691256,\n 15570575.420823593,\n 15635009.043530235,\n 15699652.362698749,\n 15764505.37821776,\n 15829568.089976968,\n 15894840.49786714,\n 15960322.60178013,\n 16026014.401608868,\n 16091915.897247378,\n 16158027.088590778,\n 16224347.97553528,\n 16290878.557978194,\n 16357618.835817946,\n 16424568.808954064,\n 16491728.477287194,\n 16559097.840719096,\n 16626676.899152655,\n 16694465.652491877,\n 16762464.100641895,\n 16830672.24350898,\n 16899090.08100053,\n 16967717.61302508,\n 17036554.839492306,\n 17105601.76031303,\n 17174858.375399213,\n 17244324.684663966,\n 17314000.68802155,\n 17383886.38538738,\n 17453981.776678015,\n 17524286.861811176,\n 17594801.64070574,\n 17665526.113281738,\n 17736460.27946037,\n 17807604.139163993,\n 17878957.692316122,\n 17950520.93884144,\n 18022293.878665797,\n 18094276.511716206,\n 18166468.837920837,\n 18238870.857209038,\n 18311482.56951132,\n 18384303.974759363,\n 18457335.072886012,\n 18530575.86382528,\n 18604026.34751235,\n 18677686.523883574,\n 18751556.392876465,\n 18825635.954429705,\n 18899925.20848314,\n 18974424.15497779,\n 19049132.79385584,\n 19124051.12506062,\n 19199179.148536652,\n 19274516.864229605,\n 19350064.272086304,\n 19425821.372054752,\n 19501788.16408409,\n 19577964.64812463,\n 19654350.824127838,\n 19730946.69204633,\n 19807752.251833875,\n 19884767.503445394,\n 19961992.44683696,\n 20039427.081965785,\n 20117071.408790234,\n 20194925.427269813,\n 20272989.13736516,\n 20351262.539038055,\n 20429745.632251415,\n 20508438.416969292,\n 20587340.89315686,\n 20666453.06078043,\n 20745774.919807423,\n 20825306.470206395,\n 20905047.71194702,\n 20984998.645000078,\n 21065159.269337464,\n 21145529.584932186,\n 21226109.591758355,\n 21306899.289791185,\n 21387898.679006986,\n 21469107.759383164,\n 21550526.53089822,\n 21632154.993531737,\n 21713993.14726439,\n 21796040.992077928,\n 21878298.52795518,\n 21960765.754880037,\n 22043442.67283747,\n 22126329.28181351,\n 22209425.581795245,\n 22292731.572770827,\n 22376247.25472945,\n 22459972.62766136,\n 22543907.691557847,\n 22628052.446411233,\n 22712406.89221488,\n 22796971.02896317,\n 22881744.856651522,\n 22966728.375276364,\n 23051921.584835142,\n 23137324.485326312,\n 23222937.07674934,\n 23308759.359104685]"
     },
     "metadata": {},
     "output_type": "execute_result",
     "execution_count": 33
    }
   ],
   "source": [
    "def p():\n",
    "    global P0\n",
    "    num_p = P0 - i(tem[0]) * 1000 \n",
    "    p = []\n",
    "    for j in range(len(tem)):\n",
    "        x = j * 1000\n",
    "        num_p = P0 - i(tem[j]) * 1000 - change_H(x)\n",
    "        P0 = num_p\n",
    "        if num_p < 500000:\n",
    "            print(x)\n",
    "        p.append(num_p)\n",
    "    return p\n",
    "p()"
   ],
   "metadata": {
    "collapsed": false,
    "pycharm": {
     "name": "#%%\n",
     "is_executing": false
    }
   }
  },
  {
   "cell_type": "code",
   "execution_count": 34,
   "outputs": [
    {
     "data": {
      "text/plain": "array([ 23308759.35910469,  23308733.72159537,  23308708.08358464, ...,\n       -11641771.93612386, -11642186.65593887, -11642601.37881631])"
     },
     "metadata": {},
     "output_type": "execute_result",
     "execution_count": 34
    }
   ],
   "source": [
    "x = np.arange(0, beng_l*3 , 1)    \n",
    "t_in = 53\n",
    "num_T = []\n",
    "y = []\n",
    "for j in range(len(x)):\n",
    "    num_T.append(T_l(t_in, x[j]))\n",
    "for k in range(len(num_T)):\n",
    "    num_y = P0-i(num_T[k])*x[k]*rho(num_T[k])*g \n",
    "    num_y = num_y.tolist()\n",
    "    y.append(num_y)\n",
    "y = np.array(y)\n",
    "type(y)\n",
    "y\n"
   ],
   "metadata": {
    "collapsed": false,
    "pycharm": {
     "name": "#%%\n",
     "is_executing": false
    }
   }
  },
  {
   "cell_type": "code",
   "execution_count": 35,
   "outputs": [
    {
     "name": "stdout",
     "text": [
      "40.346461573215805\n830.7576570296089\n0.007919156089110778\ninf\n"
     ],
     "output_type": "stream"
    },
    {
     "data": {
      "text/plain": "[inf]"
     },
     "metadata": {},
     "output_type": "execute_result",
     "execution_count": 35
    }
   ],
   "source": [
    "def pressure(j):\n",
    "    p = []\n",
    "#     for j in range(len(tem)):\n",
    "    x = j * 1000\n",
    "    if x < beng_l:\n",
    "        p_num = P0 - i(tem[j]) * x * rho(tem[j]) * g \n",
    "        p.append(p_num)\n",
    "    if beng_l <= x < (beng_l * 2):\n",
    "        p_num = P0 - i(tem[j]) * x * rho(tem[j]) * g + P_beng(tem[j])\n",
    "        p.append(p_num)\n",
    "    if (beng_l * 2) <= x < (beng_l * 3):\n",
    "        p_num = P0 - i(tem[j]) * x * rho(tem[j]) * g + P_beng(tem[j])*2\n",
    "        p.append(p_num)\n",
    "    if x >= (beng_l * 3):\n",
    "        p_num = P0 - i(tem[j]) * x * rho(tem[j]) * g + P_beng(tem[j])*3\n",
    "        p.append(p_num)\n",
    "    print(tem[j])\n",
    "    print(rho(tem[j]))\n",
    "    print(i(tem[j]))\n",
    "    print(P0 - i(tem[j]) * x * rho(tem[j]) * g + P_beng(tem[j])*3) \n",
    "    return p\n",
    "pressure(400)"
   ],
   "metadata": {
    "collapsed": false,
    "pycharm": {
     "name": "#%%\n",
     "is_executing": false
    }
   }
  },
  {
   "cell_type": "code",
   "execution_count": 36,
   "outputs": [
    {
     "data": {
      "text/plain": "[<matplotlib.lines.Line2D at 0x11570a690>]"
     },
     "metadata": {},
     "output_type": "execute_result",
     "execution_count": 36
    },
    {
     "data": {
      "text/plain": "<Figure size 432x288 with 1 Axes>",
      "image/png": "[encoded data removed]"
     },
     "metadata": {
      "needs_background": "light"
     },
     "output_type": "display_data"
    }
   ],
   "source": [
    "x = np.arange(0,  L , 1000)\n",
    "plt.plot(x, p() , label ='linear')\n",
    "\n",
    "\n"
   ],
   "metadata": {
    "collapsed": false,
    "pycharm": {
     "name": "#%%\n",
     "is_executing": false
    }
   }
  }
 ],
 "metadata": {
  "kernelspec": {
   "display_name": "Python 3",
   "language": "python",
   "name": "python3"
  },
  "language_info": {
   "codemirror_mode": {
    "name": "ipython",
    "version": 2
   },
   "file_extension": ".py",
   "mimetype": "text/x-python",
   "name": "python",
   "nbconvert_exporter": "python",
   "pygments_lexer": "ipython2",
   "version": "2.7.6"
  },
  "pycharm": {
   "stem_cell": {
    "cell_type": "raw",
    "source": [],
    "metadata": {
     "collapsed": false
    }
   }
  }
 },
 "nbformat": 4,
 "nbformat_minor": 0
}
